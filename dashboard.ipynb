{
 "cells": [
  {
   "cell_type": "markdown",
   "metadata": {},
   "source": [
    "# Toronto Dwellings Analysis Dashboard\n",
    "\n",
    "In this notebook, you will compile the visualizations from the previous analysis into functions to create a Panel dashboard."
   ]
  },
  {
   "cell_type": "code",
   "execution_count": 83,
   "metadata": {},
   "outputs": [],
   "source": [
    "# imports\n",
    "import panel as pn\n",
    "pn.extension('plotly')\n",
    "import plotly.express as px\n",
    "import pandas as pd\n",
    "import hvplot.pandas\n",
    "import matplotlib.pyplot as plt\n",
    "import os\n",
    "from pathlib import Path\n",
    "from dotenv import load_dotenv"
   ]
  },
  {
   "cell_type": "code",
   "execution_count": 84,
   "metadata": {},
   "outputs": [],
   "source": [
    "# Initialize the Panel Extensions (for Plotly)\n",
    "import panel as pn\n",
    "pn.extension(\"plotly\")"
   ]
  },
  {
   "cell_type": "code",
   "execution_count": 85,
   "metadata": {},
   "outputs": [],
   "source": [
    "# Read the Mapbox API key\n",
    "load_dotenv()\n",
    "map_box_api = os.getenv(\"mapbox\")\n",
    "px.set_mapbox_access_token(map_box_api)"
   ]
  },
  {
   "cell_type": "markdown",
   "metadata": {},
   "source": [
    "# Import Data"
   ]
  },
  {
   "cell_type": "code",
   "execution_count": 86,
   "metadata": {},
   "outputs": [],
   "source": [
    "# Import the CSVs to Pandas DataFrames\n",
    "file_path = Path(\"Data/toronto_neighbourhoods_census_data.csv\")\n",
    "to_data = pd.read_csv(file_path, index_col=\"year\")\n",
    "\n",
    "file_path = Path(\"Data/toronto_neighbourhoods_coordinates.csv\")\n",
    "df_neighbourhood_locations = pd.read_csv(file_path)"
   ]
  },
  {
   "cell_type": "markdown",
   "metadata": {},
   "source": [
    "- - -"
   ]
  },
  {
   "cell_type": "markdown",
   "metadata": {},
   "source": [
    "## Panel Visualizations\n",
    "\n",
    "In this section, you will copy the code for each plot type from your analysis notebook and place it into separate functions that Panel can use to create panes for the dashboard. \n",
    "\n",
    "These functions will convert the plot object to a Panel pane.\n",
    "\n",
    "Be sure to include any DataFrame transformation/manipulation code required along with the plotting code.\n",
    "\n",
    "Return a Panel pane object from each function that can be used to build the dashboard.\n",
    "\n",
    "Note: Remove any `.show()` lines from the code. We want to return the plots instead of showing them. The Panel dashboard will then display the plots."
   ]
  },
  {
   "cell_type": "markdown",
   "metadata": {},
   "source": [
    "### Global available data"
   ]
  },
  {
   "cell_type": "code",
   "execution_count": 87,
   "metadata": {},
   "outputs": [],
   "source": [
    "# Getting the data from the top 10 expensive neighbourhoods\n",
    "expensive_nei = to_data.reset_index().groupby(\"neighbourhood\").mean()\n",
    "expensive_nei = expensive_nei.sort_values(\"average_house_value\", ascending=False).head(10)\n",
    "\n",
    "# Calculate the mean number of dwelling types units per year\n",
    "to_data_dwelling = to_data.drop(columns=['average_house_value','shelter_costs_owned','shelter_costs_rented']).mean().reset_index()\n",
    "\n",
    "# Calculate the average monthly shelter costs for owned and rented dwellings\n",
    "avg_shelter_costs = to_data[[\"shelter_costs_owned\",\"shelter_costs_rented\"]].groupby(to_data.index).mean()\n"
   ]
  },
  {
   "cell_type": "markdown",
   "metadata": {},
   "source": [
    "### Panel Visualization Functions"
   ]
  },
  {
   "cell_type": "code",
   "execution_count": 88,
   "metadata": {},
   "outputs": [],
   "source": [
    "# Define Panel visualization functions\n",
    "def neighbourhood_map():\n",
    "    nei_data = to_data.groupby(\"neighbourhood\").mean()\n",
    "    df_avg_location = pd.merge(df_neighbourhood_locations, nei_data, on=\"neighbourhood\", how=\"inner\")\n",
    "    map_avg_nei = px.scatter_mapbox(\n",
    "        df_avg_location,lat=\"lat\",lon=\"lon\",\n",
    "        hover_data = df_avg_location,\n",
    "        hover_name=\"neighbourhood\",\n",
    "        size=\"average_house_value\",color=\"average_house_value\",\n",
    "        color_continuous_scale=\"icefire\",\n",
    "        title=\"Average House Value in Toronto\",width=900, height=500)\n",
    "    return map_avg_nei\n",
    "\n",
    "def create_bar_chart(data, title, xlabel, ylabel, color):\n",
    "    \n",
    "    bar_chart = data.hvplot.bar(title=(title),xlabel=(xlabel), ylabel=(ylabel),color=(color), rot=45, width=500, height=500)\n",
    "    return bar_chart\n",
    "    \n",
    "\n",
    "def create_line_chart(data, title, xlabel, ylabel, color):\n",
    "    create_line_chart = data.hvplot.line(title=(title),xlabel=(xlabel), ylabel=(ylabel),color=(color),width=500, height=500)\n",
    "    return create_line_chart\n",
    "\n",
    "\n",
    "def top_most_expensive_neighbourhoods():\n",
    "    average_house_value_snapshot = to_data.reset_index().groupby(\"neighbourhood\").mean()\n",
    "    top_most_expensive_neighbourhoods = average_house_value_snapshot.sort_values(\"average_house_value\", ascending=False).head(10)\n",
    "    fig = top_most_expensive_neighbourhoods.hvplot.bar(x='neighbourhood',  y='average_house_value',xlabel=\"Neighbourhood\", ylabel=\"avg_house_value\",title=\"top_most_expensive_neighbourhoods\",rot=45,  width=500, height=500)\n",
    "    return fig\n"
   ]
  },
  {
   "cell_type": "code",
   "execution_count": 89,
   "metadata": {},
   "outputs": [],
   "source": [
    "# Line chart for owned dwellings\n",
    "line_costs_owned = create_line_chart(data = avg_shelter_costs.iloc[:,0],title=\"Monthly Average Shelter Cost for Owned Dwellings in Toronto\",xlabel=\"Year\", ylabel=\"Avg Monthly Shelter Costs\",color=\"blue\",)\n",
    "# Line chart for rented dwellings\n",
    "line_costs_rented = create_line_chart(data = avg_shelter_costs.iloc[:,1],title=\"Monthly Average Shelter Cost for Rented Dwellings in Toronto\",xlabel=\"Year\", ylabel=\"Avg Monthly Shelter Costs\",color=\"yellow\",)\n"
   ]
  },
  {
   "cell_type": "code",
   "execution_count": 90,
   "metadata": {},
   "outputs": [],
   "source": [
    "to_data_year = to_data.groupby('year')\n",
    "to_data_year_sum = to_data_year.sum().drop(columns=['average_house_value', 'shelter_costs_owned', 'shelter_costs_rented'])\n",
    "\n",
    "# number of dwelling types Bar chart for 2001\n",
    "bar_chart_2001 = create_bar_chart(data = to_data_year_sum.iloc[0], title=\"Dwelling Types Units in Toronto in 2001\", xlabel=\"2001\", ylabel=\"Dwelling Type Units\", color=\"red\")\n",
    "\n",
    "# number of dwelling types Bar chart for 2006\n",
    "bar_chart_2006 = create_bar_chart(data = to_data_year_sum.iloc[1], title=\"Dwelling Types Units in Toronto in 2006\", xlabel=\"2006\", ylabel=\"Dwelling Type Units\", color=\"blue\")\n",
    "\n",
    "# number of dwelling types Bar chart for 2011\n",
    "bar_chart_2011 = create_bar_chart(data = to_data_year_sum.iloc[2], title=\"Dwelling Types Units in Toronto in 2011\", xlabel=\"2011\", ylabel=\"Dwelling Type Units\", color=\"yellow\")\n",
    "\n",
    "# number of dwelling types Bar chart for 2016\n",
    "bar_chart_2016 = create_bar_chart(data = to_data_year_sum.iloc[3], title=\"Dwelling Types Units in Toronto in 2016\", xlabel=\"2016\", ylabel=\"Dwelling Type Units\", color=\"pink\")"
   ]
  },
  {
   "cell_type": "markdown",
   "metadata": {},
   "source": [
    "## Panel Dashboard\n",
    "\n",
    "In this section, you will combine all of the plots into a single dashboard view using Panel. Be creative with your dashboard design!"
   ]
  },
  {
   "cell_type": "code",
   "execution_count": 91,
   "metadata": {},
   "outputs": [],
   "source": [
    "from panel.interact import interact\n",
    "from panel import widgets\n",
    "\n",
    "# Create a Title for the Dashboard\n",
    "dashboard_title = 'Toronto Dwellings Analysis Dashboard'\n",
    "\n",
    "# Define a welcome text\n",
    "dashboard_welcome = 'Welcome to explore the Toronto Dwellings Analysis Dashboard'\n",
    "\n",
    "\n",
    "# Create a tab layout for the dashboard\n",
    "\n",
    "dashboard_column_1 = pn.Column( bar_chart_2001,bar_chart_2006,bar_chart_2011,bar_chart_2016)\n",
    "dashboard_column_2 = pn.Column(line_costs_owned,line_costs_rented)\n",
    "dashboard_column_3 = pn.Column(neighbourhood_map,top_most_expensive_neighbourhoods)\n",
    "\n",
    "# Create the main dashboard\n",
    "\n",
    "dashboard = pn.Column(dashboard_title, pn.Tabs(('Welcome & Enjoy',dashboard_welcome),('## Overview of the market', dashboard_column_1), ('## Housing Cost', dashboard_column_2),('## Map view and Best neighbourhood',dashboard_column_3)))"
   ]
  },
  {
   "cell_type": "markdown",
   "metadata": {},
   "source": [
    "## Serve the Panel Dashboard"
   ]
  },
  {
   "cell_type": "code",
   "execution_count": 92,
   "metadata": {},
   "outputs": [
    {
     "data": {},
     "metadata": {},
     "output_type": "display_data"
    },
    {
     "data": {},
     "metadata": {},
     "output_type": "display_data"
    },
    {
     "data": {
      "application/vnd.holoviews_exec.v0+json": "",
      "text/html": [
       "<div id='3510'>\n",
       "\n",
       "\n",
       "\n",
       "\n",
       "\n",
       "  <div class=\"bk-root\" id=\"e8ec382c-6738-42e6-a234-65d754492f21\" data-root-id=\"3510\"></div>\n",
       "</div>\n",
       "<script type=\"application/javascript\">(function(root) {\n",
       "  function embed_document(root) {\n",
       "    var docs_json = {\"13d0c41b-e41f-449d-9a4f-e48aec9295fe\":{\"defs\":[],\"roots\":{\"references\":[{\"attributes\":{\"children\":[{\"id\":\"3925\"},{\"id\":\"3926\"}],\"margin\":[0,0,0,0],\"name\":\"Column06255\"},\"id\":\"3924\",\"type\":\"Column\"},{\"attributes\":{\"active_multi\":null,\"tools\":[{\"id\":\"3585\"},{\"id\":\"3602\"},{\"id\":\"3603\"},{\"id\":\"3604\"},{\"id\":\"3605\"},{\"id\":\"3606\"}]},\"id\":\"3608\",\"type\":\"Toolbar\"},{\"attributes\":{\"active_multi\":null,\"tools\":[{\"id\":\"3856\"},{\"id\":\"3874\"},{\"id\":\"3875\"},{\"id\":\"3876\"},{\"id\":\"3877\"},{\"id\":\"3878\"}]},\"id\":\"3880\",\"type\":\"Toolbar\"},{\"attributes\":{\"factors\":[\"Bridle Path-Sunnybrook-York Mills\",\"Forest Hill South\",\"Lawrence Park South\",\"Rosedale-Moore Park\",\"St.Andrew-Windfields\",\"Casa Loma\",\"Bedford Park-Nortown\",\"Forest Hill North\",\"Kingsway South\",\"Yonge-St.Clair\"],\"tags\":[[[\"neighbourhood\",\"neighbourhood\",null]]]},\"id\":\"3932\",\"type\":\"FactorRange\"},{\"attributes\":{\"end\":472132.0,\"reset_end\":472132.0,\"reset_start\":0.0,\"tags\":[[[\"2011\",\"2011\",null]]]},\"id\":\"3651\",\"type\":\"Range1d\"},{\"attributes\":{\"below\":[{\"id\":\"3662\"}],\"center\":[{\"id\":\"3664\"},{\"id\":\"3668\"}],\"height\":500,\"left\":[{\"id\":\"3665\"}],\"margin\":[5,5,5,5],\"min_border_bottom\":10,\"min_border_left\":10,\"min_border_right\":10,\"min_border_top\":10,\"renderers\":[{\"id\":\"3688\"}],\"sizing_mode\":\"fixed\",\"title\":{\"id\":\"3654\"},\"toolbar\":{\"id\":\"3675\"},\"width\":500,\"x_range\":{\"id\":\"3516\"},\"x_scale\":{\"id\":\"3658\"},\"y_range\":{\"id\":\"3651\"},\"y_scale\":{\"id\":\"3660\"}},\"id\":\"3653\",\"subtype\":\"Figure\",\"type\":\"Plot\"},{\"attributes\":{},\"id\":\"3616\",\"type\":\"Selection\"},{\"attributes\":{},\"id\":\"3876\",\"type\":\"WheelZoomTool\"},{\"attributes\":{\"source\":{\"id\":\"3887\"}},\"id\":\"3894\",\"type\":\"CDSView\"},{\"attributes\":{},\"id\":\"3666\",\"type\":\"BasicTicker\"},{\"attributes\":{\"source\":{\"id\":\"3615\"}},\"id\":\"3622\",\"type\":\"CDSView\"},{\"attributes\":{\"children\":[{\"id\":\"3935\"}],\"margin\":[0,0,0,0],\"name\":\"Row06351\"},\"id\":\"3931\",\"type\":\"Row\"},{\"attributes\":{\"axis_label\":\"Dwelling Type Units\",\"formatter\":{\"id\":\"3628\"},\"major_label_policy\":{\"id\":\"3629\"},\"ticker\":{\"id\":\"3599\"}},\"id\":\"3598\",\"type\":\"LinearAxis\"},{\"attributes\":{},\"id\":\"3683\",\"type\":\"Selection\"},{\"attributes\":{},\"id\":\"3562\",\"type\":\"AllLabels\"},{\"attributes\":{\"line_color\":\"yellow\",\"line_width\":2,\"x\":{\"field\":\"year\"},\"y\":{\"field\":\"shelter_costs_rented\"}},\"id\":\"3895\",\"type\":\"Line\"},{\"attributes\":{},\"id\":\"3559\",\"type\":\"AllLabels\"},{\"attributes\":{\"axis_label\":\"Dwelling Type Units\",\"formatter\":{\"id\":\"3695\"},\"major_label_policy\":{\"id\":\"3696\"},\"ticker\":{\"id\":\"3666\"}},\"id\":\"3665\",\"type\":\"LinearAxis\"},{\"attributes\":{\"bottom\":{\"value\":0},\"fill_alpha\":{\"value\":1.0},\"fill_color\":{\"value\":\"blue\"},\"hatch_alpha\":{\"value\":1.0},\"hatch_color\":{\"value\":\"black\"},\"hatch_scale\":{\"value\":12.0},\"hatch_weight\":{\"value\":1.0},\"line_alpha\":{\"value\":1.0},\"line_cap\":{\"value\":\"butt\"},\"line_color\":{\"value\":\"black\"},\"line_dash\":{\"value\":[]},\"line_dash_offset\":{\"value\":0},\"line_join\":{\"value\":\"bevel\"},\"line_width\":{\"value\":1},\"top\":{\"field\":\"A_2006\"},\"width\":{\"value\":0.8},\"x\":{\"field\":\"index\"}},\"id\":\"3623\",\"type\":\"VBar\"},{\"attributes\":{\"text\":\"Dwelling Types Units in Toronto in 2011\",\"text_color\":\"black\",\"text_font_size\":\"12pt\"},\"id\":\"3654\",\"type\":\"Title\"},{\"attributes\":{},\"id\":\"3874\",\"type\":\"SaveTool\"},{\"attributes\":{\"css_classes\":[\"markdown\"],\"margin\":[5,5,5,5],\"name\":\"Markdown06357\",\"text\":\"&lt;p&gt;Toronto Dwellings Analysis Dashboard&lt;/p&gt;\"},\"id\":\"3511\",\"type\":\"panel.models.markup.HTML\"},{\"attributes\":{},\"id\":\"3558\",\"type\":\"CategoricalTickFormatter\"},{\"attributes\":{\"bottom_units\":\"screen\",\"fill_alpha\":0.5,\"fill_color\":\"lightgrey\",\"left_units\":\"screen\",\"level\":\"overlay\",\"line_alpha\":1.0,\"line_color\":\"black\",\"line_dash\":[4,4],\"line_width\":2,\"right_units\":\"screen\",\"syncable\":false,\"top_units\":\"screen\"},\"id\":\"3607\",\"type\":\"BoxAnnotation\"},{\"attributes\":{},\"id\":\"3599\",\"type\":\"BasicTicker\"},{\"attributes\":{\"callback\":null,\"renderers\":[{\"id\":\"3825\"}],\"tags\":[\"hv_created\"],\"tooltips\":[[\"year\",\"@{year}\"],[\"shelter_costs_owned\",\"@{shelter_costs_owned}\"]]},\"id\":\"3788\",\"type\":\"HoverTool\"},{\"attributes\":{\"overlay\":{\"id\":\"3879\"}},\"id\":\"3877\",\"type\":\"BoxZoomTool\"},{\"attributes\":{\"reload\":false},\"id\":\"4433\",\"type\":\"panel.models.location.Location\"},{\"attributes\":{\"axis\":{\"id\":\"3870\"},\"dimension\":1,\"grid_line_color\":null,\"ticker\":null},\"id\":\"3873\",\"type\":\"Grid\"},{\"attributes\":{\"fill_color\":{\"value\":\"yellow\"},\"top\":{\"field\":\"A_2011\"},\"width\":{\"value\":0.8},\"x\":{\"field\":\"index\"}},\"id\":\"3685\",\"type\":\"VBar\"},{\"attributes\":{\"fill_alpha\":{\"value\":0.1},\"fill_color\":{\"value\":\"blue\"},\"line_alpha\":{\"value\":0.1},\"top\":{\"field\":\"A_2006\"},\"width\":{\"value\":0.8},\"x\":{\"field\":\"index\"}},\"id\":\"3619\",\"type\":\"VBar\"},{\"attributes\":{},\"id\":\"3875\",\"type\":\"PanTool\"},{\"attributes\":{},\"id\":\"3762\",\"type\":\"BasicTickFormatter\"},{\"attributes\":{},\"id\":\"3663\",\"type\":\"CategoricalTicker\"},{\"attributes\":{},\"id\":\"3638\",\"type\":\"UnionRenderers\"},{\"attributes\":{},\"id\":\"3772\",\"type\":\"UnionRenderers\"},{\"attributes\":{\"bottom_units\":\"screen\",\"fill_alpha\":0.5,\"fill_color\":\"lightgrey\",\"left_units\":\"screen\",\"level\":\"overlay\",\"line_alpha\":1.0,\"line_color\":\"black\",\"line_dash\":[4,4],\"line_width\":2,\"right_units\":\"screen\",\"syncable\":false,\"top_units\":\"screen\"},\"id\":\"3879\",\"type\":\"BoxAnnotation\"},{\"attributes\":{\"line_alpha\":0.2,\"line_color\":\"yellow\",\"line_width\":2,\"x\":{\"field\":\"year\"},\"y\":{\"field\":\"shelter_costs_rented\"}},\"id\":\"3892\",\"type\":\"Line\"},{\"attributes\":{\"data\":{\"A_2011\":[274940,429220,100,72480,60355,44750,163895,2165],\"index\":[\"single_detached_house\",\"apartment_five_storeys_plus\",\"movable_dwelling\",\"semi_detached_house\",\"row_house\",\"duplex\",\"apartment_five_storeys_less\",\"other_house\"]},\"selected\":{\"id\":\"3683\"},\"selection_policy\":{\"id\":\"3705\"}},\"id\":\"3682\",\"type\":\"ColumnDataSource\"},{\"attributes\":{},\"id\":\"3878\",\"type\":\"ResetTool\"},{\"attributes\":{\"axis\":{\"id\":\"3662\"},\"grid_line_color\":null,\"ticker\":null},\"id\":\"3664\",\"type\":\"Grid\"},{\"attributes\":{\"overlay\":{\"id\":\"3607\"}},\"id\":\"3605\",\"type\":\"BoxZoomTool\"},{\"attributes\":{},\"id\":\"3693\",\"type\":\"AllLabels\"},{\"attributes\":{\"source\":{\"id\":\"3548\"}},\"id\":\"3555\",\"type\":\"CDSView\"},{\"attributes\":{\"axis\":{\"id\":\"3598\"},\"dimension\":1,\"grid_line_color\":null,\"ticker\":null},\"id\":\"3601\",\"type\":\"Grid\"},{\"attributes\":{\"data_source\":{\"id\":\"3887\"},\"glyph\":{\"id\":\"3890\"},\"hover_glyph\":null,\"muted_glyph\":{\"id\":\"3892\"},\"nonselection_glyph\":{\"id\":\"3891\"},\"selection_glyph\":{\"id\":\"3895\"},\"view\":{\"id\":\"3894\"}},\"id\":\"3893\",\"type\":\"GlyphRenderer\"},{\"attributes\":{},\"id\":\"3604\",\"type\":\"WheelZoomTool\"},{\"attributes\":{},\"id\":\"3626\",\"type\":\"AllLabels\"},{\"attributes\":{},\"id\":\"3898\",\"type\":\"AllLabels\"},{\"attributes\":{\"fill_alpha\":{\"value\":0.1},\"fill_color\":{\"value\":\"red\"},\"line_alpha\":{\"value\":0.1},\"top\":{\"field\":\"A_2001\"},\"width\":{\"value\":0.8},\"x\":{\"field\":\"index\"}},\"id\":\"3552\",\"type\":\"VBar\"},{\"attributes\":{},\"id\":\"3901\",\"type\":\"AllLabels\"},{\"attributes\":{},\"id\":\"3539\",\"type\":\"ResetTool\"},{\"attributes\":{},\"id\":\"3829\",\"type\":\"BasicTickFormatter\"},{\"attributes\":{\"axis_label\":\"2011\",\"formatter\":{\"id\":\"3692\"},\"major_label_orientation\":0.7853981633974483,\"major_label_policy\":{\"id\":\"3693\"},\"ticker\":{\"id\":\"3663\"}},\"id\":\"3662\",\"type\":\"CategoricalAxis\"},{\"attributes\":{\"line_alpha\":0.1,\"line_color\":\"yellow\",\"line_width\":2,\"x\":{\"field\":\"year\"},\"y\":{\"field\":\"shelter_costs_rented\"}},\"id\":\"3891\",\"type\":\"Line\"},{\"attributes\":{},\"id\":\"3977\",\"type\":\"BasicTickFormatter\"},{\"attributes\":{\"margin\":[0,0,0,0],\"name\":\"Column06352\"},\"id\":\"3930\",\"type\":\"Column\"},{\"attributes\":{\"fill_color\":{\"value\":\"blue\"},\"top\":{\"field\":\"A_2006\"},\"width\":{\"value\":0.8},\"x\":{\"field\":\"index\"}},\"id\":\"3618\",\"type\":\"VBar\"},{\"attributes\":{},\"id\":\"3629\",\"type\":\"AllLabels\"},{\"attributes\":{},\"id\":\"3549\",\"type\":\"Selection\"},{\"attributes\":{\"data_source\":{\"id\":\"3548\"},\"glyph\":{\"id\":\"3551\"},\"hover_glyph\":null,\"muted_glyph\":{\"id\":\"3553\"},\"nonselection_glyph\":{\"id\":\"3552\"},\"selection_glyph\":{\"id\":\"3556\"},\"view\":{\"id\":\"3555\"}},\"id\":\"3554\",\"type\":\"GlyphRenderer\"},{\"attributes\":{},\"id\":\"3606\",\"type\":\"ResetTool\"},{\"attributes\":{},\"id\":\"3871\",\"type\":\"BasicTicker\"},{\"attributes\":{\"margin\":[0,0,0,0],\"tabs\":[{\"id\":\"3514\"},{\"id\":\"3784\"},{\"id\":\"3922\"},{\"id\":\"3999\"}]},\"id\":\"3512\",\"type\":\"Tabs\"},{\"attributes\":{\"bottom_units\":\"screen\",\"fill_alpha\":0.5,\"fill_color\":\"lightgrey\",\"left_units\":\"screen\",\"level\":\"overlay\",\"line_alpha\":1.0,\"line_color\":\"black\",\"line_dash\":[4,4],\"line_width\":2,\"right_units\":\"screen\",\"syncable\":false,\"top_units\":\"screen\"},\"id\":\"3540\",\"type\":\"BoxAnnotation\"},{\"attributes\":{\"children\":[{\"id\":\"3924\"},{\"id\":\"3929\"}],\"margin\":[0,0,0,0],\"name\":\"Column06353\"},\"id\":\"3923\",\"type\":\"Column\"},{\"attributes\":{\"end\":542587.5,\"reset_end\":542587.5,\"reset_start\":0.0,\"tags\":[[[\"2016\",\"2016\",null]]]},\"id\":\"3718\",\"type\":\"Range1d\"},{\"attributes\":{\"children\":[{\"id\":\"3928\"}],\"margin\":[0,0,0,0],\"name\":\"Row06258\"},\"id\":\"3926\",\"type\":\"Row\"},{\"attributes\":{},\"id\":\"3602\",\"type\":\"SaveTool\"},{\"attributes\":{\"children\":[{\"id\":\"3930\"},{\"id\":\"3931\"}],\"margin\":[0,0,0,0],\"name\":\"Column06261\"},\"id\":\"3929\",\"type\":\"Column\"},{\"attributes\":{\"children\":[{\"id\":\"3519\"},{\"id\":\"3586\"},{\"id\":\"3653\"},{\"id\":\"3720\"}],\"margin\":[0,0,0,0],\"name\":\"Column06242\"},\"id\":\"3515\",\"type\":\"Column\"},{\"attributes\":{},\"id\":\"3660\",\"type\":\"LinearScale\"},{\"attributes\":{\"active_multi\":null,\"tools\":[{\"id\":\"3518\"},{\"id\":\"3535\"},{\"id\":\"3536\"},{\"id\":\"3537\"},{\"id\":\"3538\"},{\"id\":\"3539\"}]},\"id\":\"3541\",\"type\":\"Toolbar\"},{\"attributes\":{\"callback\":null,\"renderers\":[{\"id\":\"3688\"}],\"tags\":[\"hv_created\"],\"tooltips\":[[\"index\",\"@{index}\"],[\"2011\",\"@{A_2011}\"]]},\"id\":\"3652\",\"type\":\"HoverTool\"},{\"attributes\":{},\"id\":\"3658\",\"type\":\"CategoricalScale\"},{\"attributes\":{\"css_classes\":[\"markdown\"],\"margin\":[5,5,5,5],\"name\":\"Welcome & Enjoy\",\"text\":\"&lt;p&gt;Welcome to explore the Toronto Dwellings Analysis Dashboard&lt;/p&gt;\"},\"id\":\"3513\",\"type\":\"panel.models.markup.HTML\"},{\"attributes\":{\"data_source\":{\"id\":\"3615\"},\"glyph\":{\"id\":\"3618\"},\"hover_glyph\":null,\"muted_glyph\":{\"id\":\"3620\"},\"nonselection_glyph\":{\"id\":\"3619\"},\"selection_glyph\":{\"id\":\"3623\"},\"view\":{\"id\":\"3622\"}},\"id\":\"3621\",\"type\":\"GlyphRenderer\"},{\"attributes\":{\"axis_label\":\"Avg Monthly Shelter Costs\",\"formatter\":{\"id\":\"3900\"},\"major_label_policy\":{\"id\":\"3901\"},\"ticker\":{\"id\":\"3871\"}},\"id\":\"3870\",\"type\":\"LinearAxis\"},{\"attributes\":{},\"id\":\"3832\",\"type\":\"BasicTickFormatter\"},{\"attributes\":{\"children\":[{\"id\":\"3789\"},{\"id\":\"3857\"}],\"margin\":[0,0,0,0],\"name\":\"Column06253\"},\"id\":\"3785\",\"type\":\"Column\"},{\"attributes\":{},\"id\":\"3603\",\"type\":\"PanTool\"},{\"attributes\":{},\"id\":\"3571\",\"type\":\"UnionRenderers\"},{\"attributes\":{\"child\":{\"id\":\"3515\"},\"name\":\"Column06242\",\"title\":\"## Overview of the market\"},\"id\":\"3784\",\"type\":\"Panel\"},{\"attributes\":{\"data\":{\"A_2016\":[269680,493270,95,71200,61565,48585,165575,2845],\"index\":[\"single_detached_house\",\"apartment_five_storeys_plus\",\"movable_dwelling\",\"semi_detached_house\",\"row_house\",\"duplex\",\"apartment_five_storeys_less\",\"other_house\"]},\"selected\":{\"id\":\"3750\"},\"selection_policy\":{\"id\":\"3772\"}},\"id\":\"3749\",\"type\":\"ColumnDataSource\"},{\"attributes\":{\"margin\":[0,0,0,0],\"name\":\"Column06259\"},\"id\":\"3925\",\"type\":\"Column\"},{\"attributes\":{\"overlay\":{\"id\":\"3540\"}},\"id\":\"3538\",\"type\":\"BoxZoomTool\"},{\"attributes\":{\"fill_alpha\":{\"value\":0.2},\"fill_color\":{\"value\":\"blue\"},\"line_alpha\":{\"value\":0.2},\"top\":{\"field\":\"A_2006\"},\"width\":{\"value\":0.8},\"x\":{\"field\":\"index\"}},\"id\":\"3620\",\"type\":\"VBar\"},{\"attributes\":{\"callback\":null,\"renderers\":[{\"id\":\"3755\"}],\"tags\":[\"hv_created\"],\"tooltips\":[[\"index\",\"@{index}\"],[\"2016\",\"@{A_2016}\"]]},\"id\":\"3719\",\"type\":\"HoverTool\"},{\"attributes\":{\"fill_alpha\":{\"value\":0.2},\"fill_color\":{\"value\":\"red\"},\"line_alpha\":{\"value\":0.2},\"top\":{\"field\":\"A_2001\"},\"width\":{\"value\":0.8},\"x\":{\"field\":\"index\"}},\"id\":\"3553\",\"type\":\"VBar\"},{\"attributes\":{},\"id\":\"3910\",\"type\":\"UnionRenderers\"},{\"attributes\":{\"axis\":{\"id\":\"3665\"},\"dimension\":1,\"grid_line_color\":null,\"ticker\":null},\"id\":\"3668\",\"type\":\"Grid\"},{\"attributes\":{},\"id\":\"3705\",\"type\":\"UnionRenderers\"},{\"attributes\":{\"callback\":null,\"renderers\":[{\"id\":\"3554\"}],\"tags\":[\"hv_created\"],\"tooltips\":[[\"index\",\"@{index}\"],[\"2001\",\"@{A_2001}\"]]},\"id\":\"3518\",\"type\":\"HoverTool\"},{\"attributes\":{},\"id\":\"3669\",\"type\":\"SaveTool\"},{\"attributes\":{\"data\":{\"shelter_costs_owned\":{\"__ndarray__\":\"UAd1UAd3ikAzMzMzM5OUQG7btm3boJZA1EEd1EGFm0A=\",\"dtype\":\"float64\",\"order\":\"little\",\"shape\":[4]},\"year\":[2001,2006,2011,2016]},\"selected\":{\"id\":\"3820\"},\"selection_policy\":{\"id\":\"3842\"}},\"id\":\"3819\",\"type\":\"ColumnDataSource\"},{\"attributes\":{},\"id\":\"3810\",\"type\":\"ResetTool\"},{\"attributes\":{\"axis\":{\"id\":\"3798\"},\"grid_line_color\":null,\"ticker\":null},\"id\":\"3801\",\"type\":\"Grid\"},{\"attributes\":{},\"id\":\"3900\",\"type\":\"BasicTickFormatter\"},{\"attributes\":{},\"id\":\"4062\",\"type\":\"UnionRenderers\"},{\"attributes\":{},\"id\":\"3974\",\"type\":\"CategoricalTickFormatter\"},{\"attributes\":{\"axis_label\":\"Dwelling Type Units\",\"formatter\":{\"id\":\"3561\"},\"major_label_policy\":{\"id\":\"3562\"},\"ticker\":{\"id\":\"3532\"}},\"id\":\"3531\",\"type\":\"LinearAxis\"},{\"attributes\":{\"text\":\"Monthly Average Shelter Cost for Owned Dwellings in Toronto\",\"text_color\":\"black\",\"text_font_size\":\"12pt\"},\"id\":\"3790\",\"type\":\"Title\"},{\"attributes\":{},\"id\":\"3978\",\"type\":\"AllLabels\"},{\"attributes\":{},\"id\":\"3806\",\"type\":\"SaveTool\"},{\"attributes\":{\"axis\":{\"id\":\"3944\"},\"grid_line_color\":null,\"ticker\":null},\"id\":\"3946\",\"type\":\"Grid\"},{\"attributes\":{\"text\":\"Monthly Average Shelter Cost for Rented Dwellings in Toronto\",\"text_color\":\"black\",\"text_font_size\":\"12pt\"},\"id\":\"3858\",\"type\":\"Title\"},{\"attributes\":{\"fill_alpha\":{\"value\":0.2},\"fill_color\":{\"value\":\"pink\"},\"line_alpha\":{\"value\":0.2},\"top\":{\"field\":\"A_2016\"},\"width\":{\"value\":0.8},\"x\":{\"field\":\"index\"}},\"id\":\"3754\",\"type\":\"VBar\"},{\"attributes\":{},\"id\":\"3807\",\"type\":\"PanTool\"},{\"attributes\":{\"child\":{\"id\":\"3785\"},\"name\":\"Column06253\",\"title\":\"## Housing Cost\"},\"id\":\"3922\",\"type\":\"Panel\"},{\"attributes\":{\"active_multi\":null,\"tools\":[{\"id\":\"3788\"},{\"id\":\"3806\"},{\"id\":\"3807\"},{\"id\":\"3808\"},{\"id\":\"3809\"},{\"id\":\"3810\"}]},\"id\":\"3812\",\"type\":\"Toolbar\"},{\"attributes\":{\"line_color\":\"blue\",\"line_width\":2,\"x\":{\"field\":\"year\"},\"y\":{\"field\":\"shelter_costs_owned\"}},\"id\":\"3822\",\"type\":\"Line\"},{\"attributes\":{\"bottom_units\":\"screen\",\"fill_alpha\":0.5,\"fill_color\":\"lightgrey\",\"left_units\":\"screen\",\"level\":\"overlay\",\"line_alpha\":1.0,\"line_color\":\"black\",\"line_dash\":[4,4],\"line_width\":2,\"right_units\":\"screen\",\"syncable\":false,\"top_units\":\"screen\"},\"id\":\"3956\",\"type\":\"BoxAnnotation\"},{\"attributes\":{},\"id\":\"3808\",\"type\":\"WheelZoomTool\"},{\"attributes\":{\"end\":1597812.3,\"reset_end\":1597812.3,\"reset_start\":0.0,\"tags\":[[[\"average_house_value\",\"average_house_value\",null]]]},\"id\":\"3933\",\"type\":\"Range1d\"},{\"attributes\":{\"data\":{\"shelter_costs_rented\":{\"__ndarray__\":\"LL7iK773kEB1UAd1UOuMQMVXfMVX3o9AJUmSJEmhk0A=\",\"dtype\":\"float64\",\"order\":\"little\",\"shape\":[4]},\"year\":[2001,2006,2011,2016]},\"selected\":{\"id\":\"3888\"},\"selection_policy\":{\"id\":\"3910\"}},\"id\":\"3887\",\"type\":\"ColumnDataSource\"},{\"attributes\":{\"below\":[{\"id\":\"3944\"}],\"center\":[{\"id\":\"3946\"},{\"id\":\"3950\"}],\"height\":500,\"left\":[{\"id\":\"3947\"}],\"margin\":[5,5,5,5],\"min_border_bottom\":10,\"min_border_left\":10,\"min_border_right\":10,\"min_border_top\":10,\"renderers\":[{\"id\":\"3970\"}],\"sizing_mode\":\"fixed\",\"title\":{\"id\":\"3936\"},\"toolbar\":{\"id\":\"3957\"},\"width\":500,\"x_range\":{\"id\":\"3932\"},\"x_scale\":{\"id\":\"3940\"},\"y_range\":{\"id\":\"3933\"},\"y_scale\":{\"id\":\"3942\"}},\"id\":\"3935\",\"subtype\":\"Figure\",\"type\":\"Plot\"},{\"attributes\":{\"bottom_units\":\"screen\",\"fill_alpha\":0.5,\"fill_color\":\"lightgrey\",\"left_units\":\"screen\",\"level\":\"overlay\",\"line_alpha\":1.0,\"line_color\":\"black\",\"line_dash\":[4,4],\"line_width\":2,\"right_units\":\"screen\",\"syncable\":false,\"top_units\":\"screen\"},\"id\":\"3811\",\"type\":\"BoxAnnotation\"},{\"attributes\":{\"text\":\"Dwelling Types Units in Toronto in 2006\",\"text_color\":\"black\",\"text_font_size\":\"12pt\"},\"id\":\"3587\",\"type\":\"Title\"},{\"attributes\":{\"fill_color\":{\"value\":\"red\"},\"top\":{\"field\":\"A_2001\"},\"width\":{\"value\":0.8},\"x\":{\"field\":\"index\"}},\"id\":\"3551\",\"type\":\"VBar\"},{\"attributes\":{\"line_alpha\":0.1,\"line_color\":\"blue\",\"line_width\":2,\"x\":{\"field\":\"year\"},\"y\":{\"field\":\"shelter_costs_owned\"}},\"id\":\"3823\",\"type\":\"Line\"},{\"attributes\":{\"source\":{\"id\":\"3819\"}},\"id\":\"3826\",\"type\":\"CDSView\"},{\"attributes\":{\"data_source\":{\"id\":\"3682\"},\"glyph\":{\"id\":\"3685\"},\"hover_glyph\":null,\"muted_glyph\":{\"id\":\"3687\"},\"nonselection_glyph\":{\"id\":\"3686\"},\"selection_glyph\":{\"id\":\"3690\"},\"view\":{\"id\":\"3689\"}},\"id\":\"3688\",\"type\":\"GlyphRenderer\"},{\"attributes\":{},\"id\":\"3862\",\"type\":\"LinearScale\"},{\"attributes\":{\"bottom\":{\"value\":0},\"fill_alpha\":{\"value\":1.0},\"fill_color\":{\"value\":\"red\"},\"hatch_alpha\":{\"value\":1.0},\"hatch_color\":{\"value\":\"black\"},\"hatch_scale\":{\"value\":12.0},\"hatch_weight\":{\"value\":1.0},\"line_alpha\":{\"value\":1.0},\"line_cap\":{\"value\":\"butt\"},\"line_color\":{\"value\":\"black\"},\"line_dash\":{\"value\":[]},\"line_dash_offset\":{\"value\":0},\"line_join\":{\"value\":\"bevel\"},\"line_width\":{\"value\":1},\"top\":{\"field\":\"A_2001\"},\"width\":{\"value\":0.8},\"x\":{\"field\":\"index\"}},\"id\":\"3556\",\"type\":\"VBar\"},{\"attributes\":{},\"id\":\"3536\",\"type\":\"PanTool\"},{\"attributes\":{\"axis_label\":\"2006\",\"formatter\":{\"id\":\"3625\"},\"major_label_orientation\":0.7853981633974483,\"major_label_policy\":{\"id\":\"3626\"},\"ticker\":{\"id\":\"3596\"}},\"id\":\"3595\",\"type\":\"CategoricalAxis\"},{\"attributes\":{\"end\":1852.7578571428571,\"reset_end\":1852.7578571428571,\"reset_start\":755.435,\"start\":755.435,\"tags\":[[[\"shelter_costs_owned\",\"shelter_costs_owned\",null]]]},\"id\":\"3787\",\"type\":\"Range1d\"},{\"attributes\":{\"line_color\":\"yellow\",\"line_width\":2,\"x\":{\"field\":\"year\"},\"y\":{\"field\":\"shelter_costs_rented\"}},\"id\":\"3890\",\"type\":\"Line\"},{\"attributes\":{\"data\":[{\"customdata\":[[\"Agincourt North\",43.80544058,-79.26671217,3435.0,1947.5,2.5,863.75,1406.25,512.5,547.5,10.0,329811.5,1109.0,983.5],[\"Agincourt South-Malvern West\",43.78865755,-79.2656118,2897.5,2180.0,1.25,375.0,456.25,523.75,628.75,32.5,334189.0,1131.25,985.0],[\"Alderwood\",43.6049369,-79.54161093,2903.75,302.5,1.25,503.75,76.25,302.5,502.5,1.25,427922.5,1166.75,1003.25],[\"Annex\",43.67158544,-79.40400062,751.25,7235.0,1.25,1375.0,613.75,355.0,4605.0,83.75,746977.0,1692.75,1315.25],[\"Banbury-Don Mills\",43.737657,-79.34971798,3572.5,5388.75,1.25,273.75,626.25,32.5,1340.0,0.0,612039.0,1463.5,1242.75],[\"Bathurst Manor\",43.76481331,-79.45605516,2131.25,1815.0,0.0,151.25,70.0,677.5,973.75,8.75,501576.75,1307.0,1059.5],[\"Bay Street Corridor\",43.65751135,-79.38572125,3.75,10470.0,0.0,1.25,18.75,1.25,271.25,2.5,423653.5,1494.5,1436.75],[\"Bayview Village\",43.77636052,-79.37711686,2101.25,3222.5,2.5,141.25,830.0,70.0,500.0,2.5,539258.75,1512.75,1422.0],[\"Bayview Woods-Steeles\",43.79680187,-79.38211795,1585.0,1700.0,0.0,580.0,175.0,86.25,522.5,1.25,565413.5,1364.25,1399.5],[\"Bedford Park-Nortown\",43.73148623,-79.42022735,4865.0,1981.25,0.0,43.75,57.5,287.5,1275.0,88.75,930415.25,1786.75,1255.0],[\"Beechborough-Greenbrook\",43.69321649,-79.47947251,686.25,671.25,0.0,70.0,16.25,97.5,1060.0,3.75,370927.75,1029.25,797.5],[\"Bendale\",43.76036631,-79.25740037,3993.75,3582.5,2.5,323.75,258.75,921.25,330.0,10.0,301123.25,1151.25,994.5],[\"Birchcliffe-Cliffside\",43.69468198,-79.26509259,5045.0,920.0,0.0,418.75,47.5,781.25,1957.5,26.25,437315.0,1228.75,918.75],[\"Black Creek\",43.76489025,-79.52197932,732.5,4356.25,0.0,685.0,1116.25,113.75,238.75,2.5,260841.75,1011.75,864.5],[\"Blake-Jones\",43.67617288,-79.33739417,526.25,491.25,0.0,810.0,380.0,151.25,748.75,25.0,511437.0,1359.25,897.75],[\"Briar Hill-Belgravia\",43.69902438,-79.45285129999999,1713.75,2401.25,0.0,150.0,37.5,351.25,1035.0,5.0,365524.5,1304.25,1030.25],[\"Bridle Path-Sunnybrook-York Mills\",43.73101314,-79.37890418,2260.0,331.25,0.0,36.25,90.0,25.0,40.0,0.0,1526485.75,2360.75,2321.75],[\"Broadview North\",43.68882512,-79.35562951,880.0,3213.75,0.0,448.75,81.25,112.5,793.75,1.25,443373.25,1320.25,1007.75],[\"Brookhaven-Amesbury\",43.70132631,-79.48558926,1775.0,3568.75,0.0,255.0,8.75,108.75,501.25,6.25,350943.0,1151.25,932.5],[\"Cabbagetown-South St.James Town\",43.66764773,-79.36610666,268.75,3322.5,0.0,451.25,615.0,127.5,1422.5,12.5,494110.5,1479.25,1072.25],[\"Caledonia-Fairbank\",43.68856865,-79.45521208,1757.5,166.25,0.0,421.25,18.75,371.25,853.75,5.0,361714.25,1239.25,989.0],[\"Casa Loma\",43.6818521,-79.40800665,916.25,2310.0,0.0,288.75,201.25,162.5,1192.5,2.5,981064.25,1873.75,1547.75],[\"Centennial Scarborough\",43.7823765,-79.15084327,3341.25,0.0,2.5,166.25,420.0,125.0,40.0,5.0,409862.75,1331.5,1148.75],[\"Church-Yonge Corridor\",43.65964886,-79.37901717,28.75,15042.5,1.25,32.5,231.25,38.75,1337.5,27.5,406117.5,1539.0,1202.75],[\"Clairlea-Birchmount\",43.71359238,-79.28138178,3223.75,1746.25,2.5,890.0,525.0,563.75,1020.0,28.75,354555.25,1241.0,952.0],[\"Clanton Park\",43.74197843,-79.44630258,2480.0,1352.5,6.25,11.25,12.5,517.5,1256.25,15.0,551561.25,1394.25,1024.0],[\"Cliffcrest\",43.72112117,-79.23552957,3407.5,1317.5,1.25,63.75,342.5,372.5,147.5,43.75,417422.0,1227.5,911.25],[\"Corso Italia-Davenport\",43.67766091,-79.44746933,1451.25,3.75,0.0,1375.0,103.75,482.5,1811.25,35.0,419930.5,1217.5,986.75],[\"Danforth\",43.68402547,-79.32981941,708.75,337.5,0.0,1350.0,33.75,197.5,1275.0,30.0,466943.0,1343.25,930.75],[\"Danforth-East York\",43.68946809,-79.33140338,3001.25,778.75,0.0,1721.25,32.5,512.5,856.25,30.0,421679.25,1265.0,982.0],[\"Don Valley Village\",43.78329369,-79.35364413,2155.0,5256.25,1.25,397.5,1438.75,120.0,247.5,2.5,398010.25,1246.25,1117.75],[\"Dorset Park\",43.75927437,-79.27890794,2106.25,3743.75,0.0,326.25,1318.75,405.0,413.75,3.75,262000.25,1152.25,953.5],[\"Dovercourt-Wallace Emerson-Juncti\",43.66567693,-79.4385407,1901.25,1666.25,2.5,2683.75,927.5,867.5,5661.25,105.0,434699.5,1231.25,1003.25],[\"Downsview-Roding-CFB\",43.73329235,-79.49049735,4328.75,3183.75,2.5,893.75,535.0,330.0,3415.0,15.0,381415.5,1096.0,928.0],[\"Dufferin Grove\",43.65542833,-79.43734104,402.5,1235.0,0.0,713.75,112.5,296.25,2322.5,35.0,457588.75,1303.5,1063.25],[\"East End-Danforth\",43.68417388,-79.29935867,1835.0,2061.25,2.5,1973.75,445.0,460.0,2093.75,40.0,478054.25,1498.5,970.25],[\"Edenbridge-Humber Valley\",43.67088591,-79.52245776,2570.0,2071.25,0.0,90.0,131.25,43.75,1043.75,1.25,796162.5,1524.75,1194.25],[\"Eglinton East\",43.7409223,-79.24559804,1637.5,5045.0,0.0,108.75,403.75,481.25,251.25,6.25,268966.5,1103.5,907.25],[\"Elms-Old Rexdale\",43.72151887,-79.54898272,1036.25,1377.5,0.0,75.0,476.25,153.75,50.0,0.0,268341.25,1202.25,998.5],[\"Englemount-Lawrence\",43.72034467,-79.43740855,2052.5,2722.5,0.0,27.5,262.5,423.75,2502.5,7.5,568936.75,1344.25,987.0],[\"Eringate-Centennial-West Deane\",43.65801676,-79.58044524,3951.25,1742.5,0.0,326.25,553.75,93.75,70.0,6.25,397781.75,1202.75,1103.0],[\"Etobicoke West Mall\",43.64506262,-79.56893877,987.5,2772.5,0.0,96.25,222.5,45.0,56.25,10.0,309412.0,1162.25,1071.25],[\"Flemingdon Park\",43.71592975,-79.33264597,5.0,6368.75,0.0,182.5,630.0,3.75,591.25,0.0,207799.0,1199.75,973.0],[\"Forest Hill North\",43.70421756,-79.42814316,1488.75,3392.5,0.0,12.5,16.25,82.5,402.5,1.25,851680.5,1722.75,1245.5],[\"Forest Hill South\",43.69452576,-79.41431786,1742.5,2031.25,1.25,61.25,45.0,75.0,1027.5,3.75,1195992.5,1781.0,1313.75],[\"Glenfield-Jane Heights\",43.74563575,-79.51346532,441.25,3413.75,0.0,3538.75,1322.5,298.75,923.75,6.25,327597.75,1080.0,860.5],[\"Greenwood-Coxwell\",43.67261231,-79.32431802,1077.5,517.5,1.25,1718.75,371.25,275.0,2082.5,12.5,387055.5,1255.75,910.5],[\"Guildwood\",43.74882934,-79.19505535,2213.75,1082.5,0.0,116.25,296.25,122.5,100.0,1.25,369373.5,1208.25,1084.5],[\"Henry Farm\",43.77114414,-79.34124067,500.0,3558.75,0.0,15.0,496.25,11.25,30.0,1.25,369958.0,1370.75,1178.5],[\"High Park North\",43.65756491,-79.46630217,1442.5,6020.0,0.0,617.5,118.75,487.5,1891.25,13.75,532497.0,1456.75,1183.0],[\"High Park-Swansea\",43.64506458,-79.46787222,2782.5,2507.5,1.25,520.0,202.5,692.5,3066.25,20.0,582977.75,1482.75,1129.75],[\"Highland Creek\",43.79077477,-79.17747247,3125.0,1.25,1.25,3.75,10.0,470.0,23.75,0.0,428838.5,1245.0,967.0],[\"Hillcrest Village\",43.80298783,-79.354804,1696.25,1950.0,0.0,900.0,1085.0,140.0,670.0,0.0,395023.0,1115.25,765.75],[\"Humber Heights-Westmount\",43.6922328,-79.5224162,1727.5,1958.75,1.25,58.75,58.75,133.75,153.75,1.25,449150.5,1210.0,1055.5],[\"Humber Summit\",43.75891975,-79.55617474,503.75,720.0,1.25,2031.25,101.25,85.0,375.0,0.0,352082.5,1121.25,935.5],[\"Humbermede\",43.74342952,-79.54236712,583.75,1568.75,0.0,1333.75,267.5,68.75,990.0,1.25,319783.75,1158.5,988.0],[\"Humewood-Cedarvale\",43.69136981,-79.42768335,1885.0,1700.0,0.0,258.75,6.25,160.0,2495.0,1.25,697085.5,1575.75,1094.0],[\"Ionview\",43.73536441,-79.27247049,1110.0,2858.75,0.0,380.0,138.75,285.0,205.0,75.0,287685.75,1116.75,902.25],[\"Islington-City Centre West\",43.63346335,-79.54331654,5206.25,8633.75,0.0,127.5,448.75,207.5,666.25,5.0,451685.25,1338.25,1109.25],[\"Junction Area\",43.66788977,-79.47143987,822.5,348.75,0.0,952.5,526.25,563.75,2218.75,20.0,433269.25,1381.5,1085.0],[\"Keelesdale-Eglinton West\",43.68572747,-79.47143711,1787.5,511.25,2.5,380.0,11.25,385.0,943.75,1.25,322774.75,1126.25,855.25],[\"Kennedy Park\",43.72555572,-79.26038221,1785.0,2852.5,1.25,436.25,122.5,581.25,667.5,61.25,287233.5,1083.75,805.25],[\"Kensington-Chinatown\",43.65355413,-79.39723988,118.75,4041.25,1.25,328.75,761.25,135.0,2663.75,78.75,440485.75,1390.75,1071.5],[\"Kingsview Village-The Westway\",43.69899257,-79.54786331,2197.5,4758.75,0.0,137.5,307.5,148.75,200.0,1.25,338344.75,1136.5,1046.0],[\"Kingsway South\",43.65352043,-79.5105768,2326.25,576.25,0.0,66.25,48.75,20.0,336.25,2.5,843234.25,1736.75,1622.0],[\"L'Amoreaux\",43.79571603,-79.31408424,1285.0,692.5,0.0,548.75,145.0,86.25,362.5,2.5,650307.75,1448.0,945.75],[\"Lambton Baby Point\",43.65742013,-79.49604526,3731.25,6731.25,0.0,1032.5,2441.25,340.0,645.0,10.0,336617.75,1135.25,948.0],[\"Lansing-Westgate\",43.75427115,-79.42474772,2447.5,2508.75,1.25,42.5,0.0,153.75,592.5,12.5,613216.5,1588.5,1360.25],[\"Lawrence Park North\",43.73006017,-79.40397836,3196.25,201.25,0.0,871.25,23.75,177.5,1008.75,1.25,759392.5,1769.75,1372.75],[\"Lawrence Park South\",43.7172117,-79.40603941,3472.5,773.75,0.0,126.25,38.75,225.0,966.25,16.25,1094027.75,1954.0,1372.75],[\"Leaside-Bennington\",43.70379663,-79.36607234,3601.25,548.75,0.0,791.25,75.0,47.5,1421.25,8.75,806471.75,1664.25,1250.5],[\"Little Portugal\",43.64753593,-79.43032271,343.75,1097.5,0.0,666.25,658.75,212.5,2560.0,38.75,540192.5,1294.75,1043.5],[\"Long Branch\",43.59236169,-79.53334545,1513.75,960.0,0.0,76.25,85.0,216.25,1696.25,15.0,385830.25,1315.75,993.5],[\"Malvern\",43.80365820000001,-79.22251662,3693.75,2982.5,0.0,1317.5,3410.0,878.75,552.5,55.0,256880.25,1228.0,998.75],[\"Maple Leaf\",43.71557394,-79.48075802,1690.0,861.25,2.5,167.5,97.5,151.25,595.0,3.75,453229.0,1089.0,949.25],[\"Markland Wood\",43.63354175,-79.57343155,1788.75,2010.0,0.0,6.25,270.0,81.25,108.75,2.5,443974.75,1250.5,1117.5],[\"Milliken\",43.82069079,-79.27500892,3910.0,1948.75,0.0,550.0,605.0,395.0,95.0,22.5,344988.25,1101.25,951.0],[\"Mimico\",43.61592386,-79.50013664,2406.25,6996.25,1.25,266.25,766.25,407.5,2966.25,18.75,393490.5,1429.25,1084.5],[\"Morningside\",43.78239861,-79.20704119,2256.25,2105.0,1.25,27.5,880.0,255.0,211.25,2.5,285013.5,1199.25,917.75],[\"Moss Park\",43.65651762,-79.36729703,110.0,5908.75,0.0,167.5,630.0,106.25,1973.75,23.75,409456.0,1477.0,938.5],[\"Mount Dennis\",43.68814409,-79.49998906,1028.75,2238.75,0.0,138.75,302.5,176.25,912.5,2.5,262308.75,1244.75,957.25],[\"Mount Olive-Silverstone-Jamestown\",43.7468678,-79.58725926,1730.0,5916.25,1.25,176.25,1033.75,603.75,127.5,1.25,253182.25,1159.5,955.25],[\"Mount Pleasant East\",43.70485217,-79.38492395,2225.0,2008.75,1.25,1611.25,146.25,170.0,1066.25,97.5,677370.25,1665.5,1205.75],[\"Mount Pleasant West\",43.70443517,-79.39335955,503.75,13042.5,6.25,193.75,237.5,96.25,1877.5,21.25,468181.75,1566.75,1219.75],[\"New Toronto\",43.6005886,-79.51035809,1601.25,1091.25,1.25,205.0,203.75,188.75,1763.75,3.75,407812.0,1227.0,865.5],[\"Newtonbrook East\",43.79153579,-79.40593745,2906.25,2403.75,1.25,8.75,35.0,265.0,302.5,0.0,559573.25,1440.75,1230.0],[\"Newtonbrook West\",43.78582994,-79.43142151,2696.25,3677.5,0.0,631.25,500.0,273.75,392.5,1.25,460568.5,1271.0,1139.25],[\"Niagara\",43.63668088,-79.4124204,52.5,8266.25,0.0,142.5,857.5,232.5,1683.75,17.5,369993.0,1630.25,1343.75],[\"North Riverdale\",43.67199515,-79.35126041,875.0,667.5,0.0,1391.25,236.25,262.5,1575.0,31.25,703063.25,1490.75,1134.5],[\"North St.James Town\",43.66962341,-79.37524658,15.0,8233.75,1.25,22.5,80.0,17.5,513.75,6.25,411455.75,1539.75,1015.5],[\"O'Connor-Parkview\",43.70680049,-79.31222777,1142.5,3193.75,0.0,150.0,206.25,300.0,217.5,15.0,298315.75,1038.25,785.5],[\"Oakridge\",43.69740813,-79.27970834,3000.0,1600.0,0.0,1282.5,31.25,667.5,2055.0,21.25,422257.5,1221.25,937.5],[\"Oakwood Village\",43.68856556,-79.43978548,3033.75,2320.0,1.25,127.5,118.75,293.75,1487.5,6.25,441202.75,1263.25,939.0],[\"Old East York\",43.69678127,-79.33548836,2313.75,528.75,0.0,170.0,0.0,358.75,423.75,12.5,443413.5,1204.5,993.75],[\"Palmerston-Little Italy\",43.6591571,-79.41840873,458.75,263.75,1.25,1150.0,298.75,240.0,3713.75,66.25,622191.75,1390.0,1201.5],[\"Parkwoods-Donalda\",43.75503347,-79.33017952,2567.5,6465.0,1.25,1445.0,1365.0,83.75,1157.5,5.0,454652.5,1276.0,1125.0],[\"Pelmo Park-Humberlea\",43.7175146,-79.5282822,1795.0,420.0,0.0,321.25,120.0,281.25,142.5,5.0,405431.25,1096.0,1012.0],[\"Playter Estates-Danforth\",43.67970047,-79.35488729,720.0,931.25,0.0,652.5,62.5,201.25,1000.0,17.5,648859.25,1701.5,1198.25],[\"Pleasant View\",43.78698176,-79.33494843,1026.25,1467.5,0.0,1978.75,272.5,71.25,676.25,6.25,373375.25,1175.75,1072.0],[\"Princess-Rosethorn\",43.6660506,-79.54455929,3298.75,445.0,0.0,2.5,41.25,47.5,10.0,2.5,765746.5,1509.75,1239.75],[\"Regent Park\",43.65999214,-79.36050881,15.0,2506.25,0.0,57.5,577.5,8.75,911.25,16.25,392578.25,1464.75,815.25],[\"Rexdale-Kipling\",43.72372548,-79.56622841,1886.25,635.0,0.0,36.25,451.25,326.25,552.5,0.0,360999.25,1127.5,900.5],[\"Rockcliffe-Smythe\",43.67479045,-79.49442045,2902.5,3225.0,1.25,1081.25,233.75,381.25,1043.75,0.0,345660.25,1134.0,867.5],[\"Roncesvalles\",43.64612299,-79.44299245,843.75,1635.0,10.0,1148.75,356.25,390.0,2278.75,53.75,508937.25,1446.0,1037.0],[\"Rosedale-Moore Park\",43.68282043,-79.3796694,2498.75,4641.25,0.0,486.25,245.0,327.5,1618.75,2.5,1093640.0,1909.75,1537.25],[\"Rouge\",43.82120126,-79.18634345,6937.5,936.25,0.0,975.0,1621.25,732.5,608.75,6.25,376286.75,1395.25,1130.0],[\"Runnymede-Bloor West Village\",43.65926882,-79.48570818,2058.75,1.25,0.0,760.0,47.5,261.25,683.75,7.5,552082.0,1462.25,1147.0],[\"Rustic\",43.71160912,-79.49809147,1168.75,1945.0,0.0,198.75,2.5,71.25,208.75,3.75,431090.5,1032.75,791.75],[\"Scarborough Village\",43.73865186,-79.21681262,1081.25,3948.75,0.0,32.5,206.25,138.75,320.0,0.0,329835.75,1214.5,903.75],[\"South Parkdale\",43.63669952,-79.43933783,337.5,6557.5,5.0,243.75,278.75,192.5,2968.75,12.5,447478.5,1599.25,1019.5],[\"South Riverdale\",43.64929206,-79.33565132,1005.0,1012.5,3.75,2686.25,1566.25,467.5,3823.75,85.0,455020.5,1416.75,971.0],[\"St.Andrew-Windfields\",43.75624583,-79.37903709,3225.0,1670.0,0.0,185.0,552.5,97.5,586.25,5.0,999107.0,1880.25,1384.5],[\"Steeles\",43.81295883,-79.32120701,3711.25,2592.5,1.25,190.0,558.75,275.0,257.5,0.0,376014.5,1153.25,1125.75],[\"Stonegate-Queensway\",43.63551813,-79.50112821,5872.5,867.5,0.0,93.75,357.5,222.5,2788.75,6.25,550432.25,1288.0,1041.25],[\"Tam O'Shanter-Sullivan\",43.78012985,-79.30291871,3168.75,4542.5,0.0,170.0,891.25,477.5,408.75,10.0,353926.5,1105.0,973.75],[\"Taylor-Massey\",43.69499819,-79.29590112,622.5,4795.0,0.0,203.75,216.25,150.0,218.75,15.0,239414.0,1129.25,919.25],[\"The Beaches\",43.67104999,-79.29960129999999,2642.5,488.75,1.25,1543.75,285.0,461.25,3770.0,23.75,666306.0,1707.0,1257.75],[\"Thistletown-Beaumond Heights\",43.73798792,-79.56349102,1682.5,666.25,0.0,322.5,52.5,253.75,237.5,3.75,375864.0,1193.75,938.5],[\"Thorncliffe Park\",43.70774921,-79.34998361,3.75,6318.75,0.0,0.0,141.25,0.0,187.5,5.0,255264.75,1304.25,1088.5],[\"Trinity-Bellwoods\",43.6501763,-79.41534216,442.5,178.75,0.0,1023.75,1027.5,460.0,3310.0,168.75,534465.75,1373.75,1160.0],[\"University\",43.6625062,-79.40117975,155.0,830.0,0.0,301.25,321.25,146.25,1252.5,46.25,618316.75,1447.25,1263.0],[\"Victoria Village\",43.72848902,-79.31487383,1256.25,3150.0,0.0,315.0,308.75,130.0,2002.5,11.25,352133.0,1162.25,916.25],[\"Waterfront Communities-The Island\",43.63388036,-79.37720231,267.5,21913.75,2.5,68.75,528.75,31.25,667.5,15.0,376863.0,1655.5,1438.75],[\"West Hill\",43.76749026,-79.17667603,3250.0,3441.25,0.0,475.0,1252.5,576.25,575.0,16.25,284647.5,1071.5,761.25],[\"West Humber-Clairville\",43.7161804,-79.59635645,4381.25,1725.0,0.0,273.75,1341.25,1345.0,505.0,2.5,343254.25,1215.25,986.25],[\"Westminster-Branson\",43.77881322,-79.45241823,846.25,7665.0,0.0,642.5,400.0,117.5,277.5,12.5,349320.25,1319.5,1121.5],[\"Weston\",43.70271605,-79.51572255,1742.5,4387.5,0.0,216.25,142.5,193.75,768.75,5.0,308007.75,1188.75,927.75],[\"Weston-Pellam Park\",43.67396204,-79.46024391,650.0,553.75,1.25,1342.5,307.5,186.25,1135.0,21.25,351802.0,1150.25,804.5],[\"Wexford/Maryvale\",43.74857214,-79.29863657,5482.5,1810.0,2.5,13.75,251.25,1313.75,1090.0,10.0,348319.25,1092.5,926.5],[\"Willowdale East\",43.77060226,-79.40148379,3533.75,11598.75,6.25,63.75,736.25,205.0,1378.75,10.0,469045.5,1484.75,1424.0],[\"Willowdale West\",43.77121049,-79.4275578,2178.75,3253.75,1.25,143.75,133.75,251.25,202.5,0.0,466134.75,1369.75,1149.75],[\"Willowridge-Martingrove-Richview\",43.68364496,-79.55422105,3647.5,3373.75,0.0,531.25,277.5,183.75,42.5,0.0,464278.0,1181.75,1109.75],[\"Woburn\",43.76674024,-79.22858577,6623.75,8898.75,1.25,326.25,241.25,1417.5,430.0,7.5,298505.75,1112.0,884.25],[\"Woodbine Corridor\",43.67677292,-79.31540738,898.75,577.5,0.0,1646.25,253.75,161.25,1721.25,23.75,445382.75,1393.0,909.0],[\"Woodbine-Lumsden\",43.69410674,-79.31116353,1938.75,633.75,0.0,323.75,21.25,257.5,303.75,7.5,369918.5,1256.0,906.5],[\"Wychwood\",43.67691927,-79.42551495,1056.25,1236.25,0.0,992.5,298.75,325.0,1878.75,17.5,565976.5,1390.75,1017.25],[\"Yonge-Eglinton\",43.70468937,-79.40359017,1468.75,1638.75,0.0,470.0,33.75,328.75,1385.0,6.25,809745.75,1799.5,1347.75],[\"Yonge-St.Clair\",43.68785887,-79.39787077,565.0,3948.75,0.0,425.0,212.5,172.5,1308.75,6.25,813220.25,1680.75,1369.0],[\"York University Heights\",43.76573649,-79.48888293,1355.0,5165.0,1.25,1316.25,662.5,188.75,1085.0,33.75,305899.5,1116.75,937.5],[\"Yorkdale-Glen Park\",43.71467153,-79.45710807,2286.25,1347.5,0.0,73.75,450.0,377.5,722.5,7.5,430861.25,1122.5,942.5]],\"hovertemplate\":\"<b>%{hovertext}</b><br><br>average_house_value=%{marker.color}<br>lat=%{customdata[1]}<br>lon=%{customdata[2]}<br>neighbourhood=%{customdata[0]}<br>single_detached_house=%{customdata[3]}<br>apartment_five_storeys_plus=%{customdata[4]}<br>movable_dwelling=%{customdata[5]}<br>semi_detached_house=%{customdata[6]}<br>row_house=%{customdata[7]}<br>duplex=%{customdata[8]}<br>apartment_five_storeys_less=%{customdata[9]}<br>other_house=%{customdata[10]}<br>shelter_costs_owned=%{customdata[12]}<br>shelter_costs_rented=%{customdata[13]}<extra></extra>\",\"hovertext\":[\"Agincourt North\",\"Agincourt South-Malvern West\",\"Alderwood\",\"Annex\",\"Banbury-Don Mills\",\"Bathurst Manor\",\"Bay Street Corridor\",\"Bayview Village\",\"Bayview Woods-Steeles\",\"Bedford Park-Nortown\",\"Beechborough-Greenbrook\",\"Bendale\",\"Birchcliffe-Cliffside\",\"Black Creek\",\"Blake-Jones\",\"Briar Hill-Belgravia\",\"Bridle Path-Sunnybrook-York Mills\",\"Broadview North\",\"Brookhaven-Amesbury\",\"Cabbagetown-South St.James Town\",\"Caledonia-Fairbank\",\"Casa Loma\",\"Centennial Scarborough\",\"Church-Yonge Corridor\",\"Clairlea-Birchmount\",\"Clanton Park\",\"Cliffcrest\",\"Corso Italia-Davenport\",\"Danforth\",\"Danforth-East York\",\"Don Valley Village\",\"Dorset Park\",\"Dovercourt-Wallace Emerson-Juncti\",\"Downsview-Roding-CFB\",\"Dufferin Grove\",\"East End-Danforth\",\"Edenbridge-Humber Valley\",\"Eglinton East\",\"Elms-Old Rexdale\",\"Englemount-Lawrence\",\"Eringate-Centennial-West Deane\",\"Etobicoke West Mall\",\"Flemingdon Park\",\"Forest Hill North\",\"Forest Hill South\",\"Glenfield-Jane Heights\",\"Greenwood-Coxwell\",\"Guildwood\",\"Henry Farm\",\"High Park North\",\"High Park-Swansea\",\"Highland Creek\",\"Hillcrest Village\",\"Humber Heights-Westmount\",\"Humber Summit\",\"Humbermede\",\"Humewood-Cedarvale\",\"Ionview\",\"Islington-City Centre West\",\"Junction Area\",\"Keelesdale-Eglinton West\",\"Kennedy Park\",\"Kensington-Chinatown\",\"Kingsview Village-The Westway\",\"Kingsway South\",\"L'Amoreaux\",\"Lambton Baby Point\",\"Lansing-Westgate\",\"Lawrence Park North\",\"Lawrence Park South\",\"Leaside-Bennington\",\"Little Portugal\",\"Long Branch\",\"Malvern\",\"Maple Leaf\",\"Markland Wood\",\"Milliken\",\"Mimico\",\"Morningside\",\"Moss Park\",\"Mount Dennis\",\"Mount Olive-Silverstone-Jamestown\",\"Mount Pleasant East\",\"Mount Pleasant West\",\"New Toronto\",\"Newtonbrook East\",\"Newtonbrook West\",\"Niagara\",\"North Riverdale\",\"North St.James Town\",\"O'Connor-Parkview\",\"Oakridge\",\"Oakwood Village\",\"Old East York\",\"Palmerston-Little Italy\",\"Parkwoods-Donalda\",\"Pelmo Park-Humberlea\",\"Playter Estates-Danforth\",\"Pleasant View\",\"Princess-Rosethorn\",\"Regent Park\",\"Rexdale-Kipling\",\"Rockcliffe-Smythe\",\"Roncesvalles\",\"Rosedale-Moore Park\",\"Rouge\",\"Runnymede-Bloor West Village\",\"Rustic\",\"Scarborough Village\",\"South Parkdale\",\"South Riverdale\",\"St.Andrew-Windfields\",\"Steeles\",\"Stonegate-Queensway\",\"Tam O'Shanter-Sullivan\",\"Taylor-Massey\",\"The Beaches\",\"Thistletown-Beaumond Heights\",\"Thorncliffe Park\",\"Trinity-Bellwoods\",\"University\",\"Victoria Village\",\"Waterfront Communities-The Island\",\"West Hill\",\"West Humber-Clairville\",\"Westminster-Branson\",\"Weston\",\"Weston-Pellam Park\",\"Wexford/Maryvale\",\"Willowdale East\",\"Willowdale West\",\"Willowridge-Martingrove-Richview\",\"Woburn\",\"Woodbine Corridor\",\"Woodbine-Lumsden\",\"Wychwood\",\"Yonge-Eglinton\",\"Yonge-St.Clair\",\"York University Heights\",\"Yorkdale-Glen Park\"],\"legendgroup\":\"\",\"marker\":{\"coloraxis\":\"coloraxis\",\"sizemode\":\"area\",\"sizeref\":3816.214375},\"mode\":\"markers\",\"name\":\"\",\"showlegend\":false,\"subplot\":\"mapbox\",\"type\":\"scattermapbox\"}],\"data_sources\":[{\"id\":\"3927\"}],\"layout\":{\"coloraxis\":{\"colorbar\":{\"title\":{\"text\":\"average_house_value\"}},\"colorscale\":[[0.0,\"#000000\"],[0.0625,\"#001f4d\"],[0.125,\"#003786\"],[0.1875,\"#0e58a8\"],[0.25,\"#217eb8\"],[0.3125,\"#30a4ca\"],[0.375,\"#54c8df\"],[0.4375,\"#9be4ef\"],[0.5,\"#e1e9d1\"],[0.5625,\"#f3d573\"],[0.625,\"#e7b000\"],[0.6875,\"#da8200\"],[0.75,\"#c65400\"],[0.8125,\"#ac2301\"],[0.875,\"#820000\"],[0.9375,\"#4c0000\"],[1.0,\"#000000\"]]},\"height\":500,\"legend\":{\"itemsizing\":\"constant\",\"tracegroupgap\":0},\"mapbox\":{\"accesstoken\":\"pk.eyJ1IjoidmluY2VudGlzd2VueGluIiwiYSI6ImNrbTd1b2U4NTExeW4ycXVzaXp2a2g4bm0ifQ.0yIYQpGrJhd-BFXdNuhncA\",\"center\":{\"lat\":43.708840577642846,\"lon\":-79.4001855035},\"domain\":{\"x\":[0.0,1.0],\"y\":[0.0,1.0]},\"zoom\":8},\"template\":{\"data\":{\"bar\":[{\"error_x\":{\"color\":\"#2a3f5f\"},\"error_y\":{\"color\":\"#2a3f5f\"},\"marker\":{\"line\":{\"color\":\"#E5ECF6\",\"width\":0.5},\"pattern\":{\"fillmode\":\"overlay\",\"size\":10,\"solidity\":0.2}},\"type\":\"bar\"}],\"barpolar\":[{\"marker\":{\"line\":{\"color\":\"#E5ECF6\",\"width\":0.5},\"pattern\":{\"fillmode\":\"overlay\",\"size\":10,\"solidity\":0.2}},\"type\":\"barpolar\"}],\"carpet\":[{\"aaxis\":{\"endlinecolor\":\"#2a3f5f\",\"gridcolor\":\"white\",\"linecolor\":\"white\",\"minorgridcolor\":\"white\",\"startlinecolor\":\"#2a3f5f\"},\"baxis\":{\"endlinecolor\":\"#2a3f5f\",\"gridcolor\":\"white\",\"linecolor\":\"white\",\"minorgridcolor\":\"white\",\"startlinecolor\":\"#2a3f5f\"},\"type\":\"carpet\"}],\"choropleth\":[{\"colorbar\":{\"outlinewidth\":0,\"ticks\":\"\"},\"type\":\"choropleth\"}],\"contour\":[{\"colorbar\":{\"outlinewidth\":0,\"ticks\":\"\"},\"colorscale\":[[0.0,\"#0d0887\"],[0.1111111111111111,\"#46039f\"],[0.2222222222222222,\"#7201a8\"],[0.3333333333333333,\"#9c179e\"],[0.4444444444444444,\"#bd3786\"],[0.5555555555555556,\"#d8576b\"],[0.6666666666666666,\"#ed7953\"],[0.7777777777777778,\"#fb9f3a\"],[0.8888888888888888,\"#fdca26\"],[1.0,\"#f0f921\"]],\"type\":\"contour\"}],\"contourcarpet\":[{\"colorbar\":{\"outlinewidth\":0,\"ticks\":\"\"},\"type\":\"contourcarpet\"}],\"heatmap\":[{\"colorbar\":{\"outlinewidth\":0,\"ticks\":\"\"},\"colorscale\":[[0.0,\"#0d0887\"],[0.1111111111111111,\"#46039f\"],[0.2222222222222222,\"#7201a8\"],[0.3333333333333333,\"#9c179e\"],[0.4444444444444444,\"#bd3786\"],[0.5555555555555556,\"#d8576b\"],[0.6666666666666666,\"#ed7953\"],[0.7777777777777778,\"#fb9f3a\"],[0.8888888888888888,\"#fdca26\"],[1.0,\"#f0f921\"]],\"type\":\"heatmap\"}],\"heatmapgl\":[{\"colorbar\":{\"outlinewidth\":0,\"ticks\":\"\"},\"colorscale\":[[0.0,\"#0d0887\"],[0.1111111111111111,\"#46039f\"],[0.2222222222222222,\"#7201a8\"],[0.3333333333333333,\"#9c179e\"],[0.4444444444444444,\"#bd3786\"],[0.5555555555555556,\"#d8576b\"],[0.6666666666666666,\"#ed7953\"],[0.7777777777777778,\"#fb9f3a\"],[0.8888888888888888,\"#fdca26\"],[1.0,\"#f0f921\"]],\"type\":\"heatmapgl\"}],\"histogram\":[{\"marker\":{\"pattern\":{\"fillmode\":\"overlay\",\"size\":10,\"solidity\":0.2}},\"type\":\"histogram\"}],\"histogram2d\":[{\"colorbar\":{\"outlinewidth\":0,\"ticks\":\"\"},\"colorscale\":[[0.0,\"#0d0887\"],[0.1111111111111111,\"#46039f\"],[0.2222222222222222,\"#7201a8\"],[0.3333333333333333,\"#9c179e\"],[0.4444444444444444,\"#bd3786\"],[0.5555555555555556,\"#d8576b\"],[0.6666666666666666,\"#ed7953\"],[0.7777777777777778,\"#fb9f3a\"],[0.8888888888888888,\"#fdca26\"],[1.0,\"#f0f921\"]],\"type\":\"histogram2d\"}],\"histogram2dcontour\":[{\"colorbar\":{\"outlinewidth\":0,\"ticks\":\"\"},\"colorscale\":[[0.0,\"#0d0887\"],[0.1111111111111111,\"#46039f\"],[0.2222222222222222,\"#7201a8\"],[0.3333333333333333,\"#9c179e\"],[0.4444444444444444,\"#bd3786\"],[0.5555555555555556,\"#d8576b\"],[0.6666666666666666,\"#ed7953\"],[0.7777777777777778,\"#fb9f3a\"],[0.8888888888888888,\"#fdca26\"],[1.0,\"#f0f921\"]],\"type\":\"histogram2dcontour\"}],\"mesh3d\":[{\"colorbar\":{\"outlinewidth\":0,\"ticks\":\"\"},\"type\":\"mesh3d\"}],\"parcoords\":[{\"line\":{\"colorbar\":{\"outlinewidth\":0,\"ticks\":\"\"}},\"type\":\"parcoords\"}],\"pie\":[{\"automargin\":true,\"type\":\"pie\"}],\"scatter\":[{\"marker\":{\"colorbar\":{\"outlinewidth\":0,\"ticks\":\"\"}},\"type\":\"scatter\"}],\"scatter3d\":[{\"line\":{\"colorbar\":{\"outlinewidth\":0,\"ticks\":\"\"}},\"marker\":{\"colorbar\":{\"outlinewidth\":0,\"ticks\":\"\"}},\"type\":\"scatter3d\"}],\"scattercarpet\":[{\"marker\":{\"colorbar\":{\"outlinewidth\":0,\"ticks\":\"\"}},\"type\":\"scattercarpet\"}],\"scattergeo\":[{\"marker\":{\"colorbar\":{\"outlinewidth\":0,\"ticks\":\"\"}},\"type\":\"scattergeo\"}],\"scattergl\":[{\"marker\":{\"colorbar\":{\"outlinewidth\":0,\"ticks\":\"\"}},\"type\":\"scattergl\"}],\"scattermapbox\":[{\"marker\":{\"colorbar\":{\"outlinewidth\":0,\"ticks\":\"\"}},\"type\":\"scattermapbox\"}],\"scatterpolar\":[{\"marker\":{\"colorbar\":{\"outlinewidth\":0,\"ticks\":\"\"}},\"type\":\"scatterpolar\"}],\"scatterpolargl\":[{\"marker\":{\"colorbar\":{\"outlinewidth\":0,\"ticks\":\"\"}},\"type\":\"scatterpolargl\"}],\"scatterternary\":[{\"marker\":{\"colorbar\":{\"outlinewidth\":0,\"ticks\":\"\"}},\"type\":\"scatterternary\"}],\"surface\":[{\"colorbar\":{\"outlinewidth\":0,\"ticks\":\"\"},\"colorscale\":[[0.0,\"#0d0887\"],[0.1111111111111111,\"#46039f\"],[0.2222222222222222,\"#7201a8\"],[0.3333333333333333,\"#9c179e\"],[0.4444444444444444,\"#bd3786\"],[0.5555555555555556,\"#d8576b\"],[0.6666666666666666,\"#ed7953\"],[0.7777777777777778,\"#fb9f3a\"],[0.8888888888888888,\"#fdca26\"],[1.0,\"#f0f921\"]],\"type\":\"surface\"}],\"table\":[{\"cells\":{\"fill\":{\"color\":\"#EBF0F8\"},\"line\":{\"color\":\"white\"}},\"header\":{\"fill\":{\"color\":\"#C8D4E3\"},\"line\":{\"color\":\"white\"}},\"type\":\"table\"}]},\"layout\":{\"annotationdefaults\":{\"arrowcolor\":\"#2a3f5f\",\"arrowhead\":0,\"arrowwidth\":1},\"autotypenumbers\":\"strict\",\"coloraxis\":{\"colorbar\":{\"outlinewidth\":0,\"ticks\":\"\"}},\"colorscale\":{\"diverging\":[[0,\"#8e0152\"],[0.1,\"#c51b7d\"],[0.2,\"#de77ae\"],[0.3,\"#f1b6da\"],[0.4,\"#fde0ef\"],[0.5,\"#f7f7f7\"],[0.6,\"#e6f5d0\"],[0.7,\"#b8e186\"],[0.8,\"#7fbc41\"],[0.9,\"#4d9221\"],[1,\"#276419\"]],\"sequential\":[[0.0,\"#0d0887\"],[0.1111111111111111,\"#46039f\"],[0.2222222222222222,\"#7201a8\"],[0.3333333333333333,\"#9c179e\"],[0.4444444444444444,\"#bd3786\"],[0.5555555555555556,\"#d8576b\"],[0.6666666666666666,\"#ed7953\"],[0.7777777777777778,\"#fb9f3a\"],[0.8888888888888888,\"#fdca26\"],[1.0,\"#f0f921\"]],\"sequentialminus\":[[0.0,\"#0d0887\"],[0.1111111111111111,\"#46039f\"],[0.2222222222222222,\"#7201a8\"],[0.3333333333333333,\"#9c179e\"],[0.4444444444444444,\"#bd3786\"],[0.5555555555555556,\"#d8576b\"],[0.6666666666666666,\"#ed7953\"],[0.7777777777777778,\"#fb9f3a\"],[0.8888888888888888,\"#fdca26\"],[1.0,\"#f0f921\"]]},\"colorway\":[\"#636efa\",\"#EF553B\",\"#00cc96\",\"#ab63fa\",\"#FFA15A\",\"#19d3f3\",\"#FF6692\",\"#B6E880\",\"#FF97FF\",\"#FECB52\"],\"font\":{\"color\":\"#2a3f5f\"},\"geo\":{\"bgcolor\":\"white\",\"lakecolor\":\"white\",\"landcolor\":\"#E5ECF6\",\"showlakes\":true,\"showland\":true,\"subunitcolor\":\"white\"},\"hoverlabel\":{\"align\":\"left\"},\"hovermode\":\"closest\",\"mapbox\":{\"style\":\"light\"},\"paper_bgcolor\":\"white\",\"plot_bgcolor\":\"#E5ECF6\",\"polar\":{\"angularaxis\":{\"gridcolor\":\"white\",\"linecolor\":\"white\",\"ticks\":\"\"},\"bgcolor\":\"#E5ECF6\",\"radialaxis\":{\"gridcolor\":\"white\",\"linecolor\":\"white\",\"ticks\":\"\"}},\"scene\":{\"xaxis\":{\"backgroundcolor\":\"#E5ECF6\",\"gridcolor\":\"white\",\"gridwidth\":2,\"linecolor\":\"white\",\"showbackground\":true,\"ticks\":\"\",\"zerolinecolor\":\"white\"},\"yaxis\":{\"backgroundcolor\":\"#E5ECF6\",\"gridcolor\":\"white\",\"gridwidth\":2,\"linecolor\":\"white\",\"showbackground\":true,\"ticks\":\"\",\"zerolinecolor\":\"white\"},\"zaxis\":{\"backgroundcolor\":\"#E5ECF6\",\"gridcolor\":\"white\",\"gridwidth\":2,\"linecolor\":\"white\",\"showbackground\":true,\"ticks\":\"\",\"zerolinecolor\":\"white\"}},\"shapedefaults\":{\"line\":{\"color\":\"#2a3f5f\"}},\"ternary\":{\"aaxis\":{\"gridcolor\":\"white\",\"linecolor\":\"white\",\"ticks\":\"\"},\"baxis\":{\"gridcolor\":\"white\",\"linecolor\":\"white\",\"ticks\":\"\"},\"bgcolor\":\"#E5ECF6\",\"caxis\":{\"gridcolor\":\"white\",\"linecolor\":\"white\",\"ticks\":\"\"}},\"title\":{\"x\":0.05},\"xaxis\":{\"automargin\":true,\"gridcolor\":\"white\",\"linecolor\":\"white\",\"ticks\":\"\",\"title\":{\"standoff\":15},\"zerolinecolor\":\"white\",\"zerolinewidth\":2},\"yaxis\":{\"automargin\":true,\"gridcolor\":\"white\",\"linecolor\":\"white\",\"ticks\":\"\",\"title\":{\"standoff\":15},\"zerolinecolor\":\"white\",\"zerolinewidth\":2}}},\"title\":{\"text\":\"Average House Value in Toronto\"},\"width\":900},\"margin\":[5,5,5,5],\"name\":\"interactive06254\",\"viewport_update_throttle\":200},\"id\":\"3928\",\"type\":\"panel.models.plotly.PlotlyPlot\"},{\"attributes\":{\"below\":[{\"id\":\"3528\"}],\"center\":[{\"id\":\"3530\"},{\"id\":\"3534\"}],\"height\":500,\"left\":[{\"id\":\"3531\"}],\"margin\":[5,5,5,5],\"min_border_bottom\":10,\"min_border_left\":10,\"min_border_right\":10,\"min_border_top\":10,\"renderers\":[{\"id\":\"3554\"}],\"sizing_mode\":\"fixed\",\"title\":{\"id\":\"3520\"},\"toolbar\":{\"id\":\"3541\"},\"width\":500,\"x_range\":{\"id\":\"3516\"},\"x_scale\":{\"id\":\"3524\"},\"y_range\":{\"id\":\"3517\"},\"y_scale\":{\"id\":\"3526\"}},\"id\":\"3519\",\"subtype\":\"Figure\",\"type\":\"Plot\"},{\"attributes\":{},\"id\":\"3591\",\"type\":\"CategoricalScale\"},{\"attributes\":{\"data_source\":{\"id\":\"3819\"},\"glyph\":{\"id\":\"3822\"},\"hover_glyph\":null,\"muted_glyph\":{\"id\":\"3824\"},\"nonselection_glyph\":{\"id\":\"3823\"},\"selection_glyph\":{\"id\":\"3827\"},\"view\":{\"id\":\"3826\"}},\"id\":\"3825\",\"type\":\"GlyphRenderer\"},{\"attributes\":{},\"id\":\"3692\",\"type\":\"CategoricalTickFormatter\"},{\"attributes\":{\"data_source\":{\"id\":\"3749\"},\"glyph\":{\"id\":\"3752\"},\"hover_glyph\":null,\"muted_glyph\":{\"id\":\"3754\"},\"nonselection_glyph\":{\"id\":\"3753\"},\"selection_glyph\":{\"id\":\"3757\"},\"view\":{\"id\":\"3756\"}},\"id\":\"3755\",\"type\":\"GlyphRenderer\"},{\"attributes\":{\"line_color\":\"blue\",\"line_width\":2,\"x\":{\"field\":\"year\"},\"y\":{\"field\":\"shelter_costs_owned\"}},\"id\":\"3827\",\"type\":\"Line\"},{\"attributes\":{\"below\":[{\"id\":\"3798\"}],\"center\":[{\"id\":\"3801\"},{\"id\":\"3805\"}],\"height\":500,\"left\":[{\"id\":\"3802\"}],\"margin\":[5,5,5,5],\"min_border_bottom\":10,\"min_border_left\":10,\"min_border_right\":10,\"min_border_top\":10,\"renderers\":[{\"id\":\"3825\"}],\"sizing_mode\":\"fixed\",\"title\":{\"id\":\"3790\"},\"toolbar\":{\"id\":\"3812\"},\"width\":500,\"x_range\":{\"id\":\"3786\"},\"x_scale\":{\"id\":\"3794\"},\"y_range\":{\"id\":\"3787\"},\"y_scale\":{\"id\":\"3796\"}},\"id\":\"3789\",\"subtype\":\"Figure\",\"type\":\"Plot\"},{\"attributes\":{\"data\":{\"average_house_value\":{\"__ndarray__\":\"AAAAwNVKN0EAAACA2D8yQQAAAMCLsTBBAAAAAAiwMEEAAAAAhn0uQQAAAICQ8C1BAAAAgN5kLEEAAAAAwf0pQQAAAIDEuylBAAAAgEjRKEE=\",\"dtype\":\"float64\",\"order\":\"little\",\"shape\":[10]},\"neighbourhood\":[\"Bridle Path-Sunnybrook-York Mills\",\"Forest Hill South\",\"Lawrence Park South\",\"Rosedale-Moore Park\",\"St.Andrew-Windfields\",\"Casa Loma\",\"Bedford Park-Nortown\",\"Forest Hill North\",\"Kingsway South\",\"Yonge-St.Clair\"]},\"selected\":{\"id\":\"3965\"},\"selection_policy\":{\"id\":\"3987\"}},\"id\":\"3964\",\"type\":\"ColumnDataSource\"},{\"attributes\":{},\"id\":\"3593\",\"type\":\"LinearScale\"},{\"attributes\":{\"bottom\":{\"value\":0},\"fill_alpha\":{\"value\":1.0},\"fill_color\":{\"value\":\"yellow\"},\"hatch_alpha\":{\"value\":1.0},\"hatch_color\":{\"value\":\"black\"},\"hatch_scale\":{\"value\":12.0},\"hatch_weight\":{\"value\":1.0},\"line_alpha\":{\"value\":1.0},\"line_cap\":{\"value\":\"butt\"},\"line_color\":{\"value\":\"black\"},\"line_dash\":{\"value\":[]},\"line_dash_offset\":{\"value\":0},\"line_join\":{\"value\":\"bevel\"},\"line_width\":{\"value\":1},\"top\":{\"field\":\"A_2011\"},\"width\":{\"value\":0.8},\"x\":{\"field\":\"index\"}},\"id\":\"3690\",\"type\":\"VBar\"},{\"attributes\":{\"axis\":{\"id\":\"3595\"},\"grid_line_color\":null,\"ticker\":null},\"id\":\"3597\",\"type\":\"Grid\"},{\"attributes\":{},\"id\":\"3628\",\"type\":\"BasicTickFormatter\"},{\"attributes\":{},\"id\":\"3596\",\"type\":\"CategoricalTicker\"},{\"attributes\":{},\"id\":\"3940\",\"type\":\"CategoricalScale\"},{\"attributes\":{},\"id\":\"3867\",\"type\":\"BasicTicker\"},{\"attributes\":{},\"id\":\"4061\",\"type\":\"Selection\"},{\"attributes\":{},\"id\":\"3830\",\"type\":\"AllLabels\"},{\"attributes\":{\"below\":[{\"id\":\"3595\"}],\"center\":[{\"id\":\"3597\"},{\"id\":\"3601\"}],\"height\":500,\"left\":[{\"id\":\"3598\"}],\"margin\":[5,5,5,5],\"min_border_bottom\":10,\"min_border_left\":10,\"min_border_right\":10,\"min_border_top\":10,\"renderers\":[{\"id\":\"3621\"}],\"sizing_mode\":\"fixed\",\"title\":{\"id\":\"3587\"},\"toolbar\":{\"id\":\"3608\"},\"width\":500,\"x_range\":{\"id\":\"3516\"},\"x_scale\":{\"id\":\"3591\"},\"y_range\":{\"id\":\"3584\"},\"y_scale\":{\"id\":\"3593\"}},\"id\":\"3586\",\"subtype\":\"Figure\",\"type\":\"Plot\"},{\"attributes\":{\"axis\":{\"id\":\"3531\"},\"dimension\":1,\"grid_line_color\":null,\"ticker\":null},\"id\":\"3534\",\"type\":\"Grid\"},{\"attributes\":{},\"id\":\"3532\",\"type\":\"BasicTicker\"},{\"attributes\":{},\"id\":\"3945\",\"type\":\"CategoricalTicker\"},{\"attributes\":{},\"id\":\"3561\",\"type\":\"BasicTickFormatter\"},{\"attributes\":{\"data\":{\"A_2006\":[266860,379400,165,69430,54690,44095,162850,1335],\"index\":[\"single_detached_house\",\"apartment_five_storeys_plus\",\"movable_dwelling\",\"semi_detached_house\",\"row_house\",\"duplex\",\"apartment_five_storeys_less\",\"other_house\"]},\"selected\":{\"id\":\"3616\"},\"selection_policy\":{\"id\":\"3638\"}},\"id\":\"3615\",\"type\":\"ColumnDataSource\"},{\"attributes\":{},\"id\":\"3696\",\"type\":\"AllLabels\"},{\"attributes\":{\"axis_label\":\"Neighbourhood\",\"formatter\":{\"id\":\"3974\"},\"major_label_orientation\":0.7853981633974483,\"major_label_policy\":{\"id\":\"3975\"},\"ticker\":{\"id\":\"3945\"}},\"id\":\"3944\",\"type\":\"CategoricalAxis\"},{\"attributes\":{\"fill_color\":{\"value\":\"#30a2da\"},\"top\":{\"field\":\"average_house_value\"},\"width\":{\"value\":0.8},\"x\":{\"field\":\"neighbourhood\"}},\"id\":\"3967\",\"type\":\"VBar\"},{\"attributes\":{\"callback\":null,\"renderers\":[{\"id\":\"3970\"}],\"tags\":[\"hv_created\"],\"tooltips\":[[\"neighbourhood\",\"@{neighbourhood}\"],[\"average_house_value\",\"@{average_house_value}\"]]},\"id\":\"3934\",\"type\":\"HoverTool\"},{\"attributes\":{},\"id\":\"3763\",\"type\":\"AllLabels\"},{\"attributes\":{},\"id\":\"3942\",\"type\":\"LinearScale\"},{\"attributes\":{\"active_multi\":null,\"tools\":[{\"id\":\"3652\"},{\"id\":\"3669\"},{\"id\":\"3670\"},{\"id\":\"3671\"},{\"id\":\"3672\"},{\"id\":\"3673\"}]},\"id\":\"3675\",\"type\":\"Toolbar\"},{\"attributes\":{},\"id\":\"3897\",\"type\":\"BasicTickFormatter\"},{\"attributes\":{\"overlay\":{\"id\":\"3811\"}},\"id\":\"3809\",\"type\":\"BoxZoomTool\"},{\"attributes\":{\"bottom_units\":\"screen\",\"fill_alpha\":0.5,\"fill_color\":\"lightgrey\",\"left_units\":\"screen\",\"level\":\"overlay\",\"line_alpha\":1.0,\"line_color\":\"black\",\"line_dash\":[4,4],\"line_width\":2,\"right_units\":\"screen\",\"syncable\":false,\"top_units\":\"screen\"},\"id\":\"3741\",\"type\":\"BoxAnnotation\"},{\"attributes\":{\"axis\":{\"id\":\"3866\"},\"grid_line_color\":null,\"ticker\":null},\"id\":\"3869\",\"type\":\"Grid\"},{\"attributes\":{\"data\":{\"A_2001\":[300930,355015,75,90995,52355,23785,116900,3040],\"index\":[\"single_detached_house\",\"apartment_five_storeys_plus\",\"movable_dwelling\",\"semi_detached_house\",\"row_house\",\"duplex\",\"apartment_five_storeys_less\",\"other_house\"]},\"selected\":{\"id\":\"3549\"},\"selection_policy\":{\"id\":\"3571\"}},\"id\":\"3548\",\"type\":\"ColumnDataSource\"},{\"attributes\":{\"fill_alpha\":{\"value\":0.1},\"fill_color\":{\"value\":\"yellow\"},\"line_alpha\":{\"value\":0.1},\"top\":{\"field\":\"A_2011\"},\"width\":{\"value\":0.8},\"x\":{\"field\":\"index\"}},\"id\":\"3686\",\"type\":\"VBar\"},{\"attributes\":{},\"id\":\"3740\",\"type\":\"ResetTool\"},{\"attributes\":{\"active_multi\":null,\"tools\":[{\"id\":\"3934\"},{\"id\":\"3951\"},{\"id\":\"3952\"},{\"id\":\"3953\"},{\"id\":\"3954\"},{\"id\":\"3955\"}]},\"id\":\"3957\",\"type\":\"Toolbar\"},{\"attributes\":{},\"id\":\"3537\",\"type\":\"WheelZoomTool\"},{\"attributes\":{\"fill_color\":{\"value\":\"pink\"},\"top\":{\"field\":\"A_2016\"},\"width\":{\"value\":0.8},\"x\":{\"field\":\"index\"}},\"id\":\"3752\",\"type\":\"VBar\"},{\"attributes\":{\"axis\":{\"id\":\"3947\"},\"dimension\":1,\"grid_line_color\":null,\"ticker\":null},\"id\":\"3950\",\"type\":\"Grid\"},{\"attributes\":{},\"id\":\"3955\",\"type\":\"ResetTool\"},{\"attributes\":{\"end\":417323.5,\"reset_end\":417323.5,\"reset_start\":0.0,\"tags\":[[[\"2006\",\"2006\",null]]]},\"id\":\"3584\",\"type\":\"Range1d\"},{\"attributes\":{\"text\":\"Dwelling Types Units in Toronto in 2016\",\"text_color\":\"black\",\"text_font_size\":\"12pt\"},\"id\":\"3721\",\"type\":\"Title\"},{\"attributes\":{\"axis_label\":\"Year\",\"formatter\":{\"id\":\"3897\"},\"major_label_policy\":{\"id\":\"3898\"},\"ticker\":{\"id\":\"3867\"}},\"id\":\"3866\",\"type\":\"LinearAxis\"},{\"attributes\":{},\"id\":\"3529\",\"type\":\"CategoricalTicker\"},{\"attributes\":{},\"id\":\"3673\",\"type\":\"ResetTool\"},{\"attributes\":{},\"id\":\"3760\",\"type\":\"AllLabels\"},{\"attributes\":{},\"id\":\"3759\",\"type\":\"CategoricalTickFormatter\"},{\"attributes\":{\"overlay\":{\"id\":\"3956\"}},\"id\":\"3954\",\"type\":\"BoxZoomTool\"},{\"attributes\":{},\"id\":\"3864\",\"type\":\"LinearScale\"},{\"attributes\":{},\"id\":\"3750\",\"type\":\"Selection\"},{\"attributes\":{\"children\":[{\"id\":\"3511\"},{\"id\":\"3512\"}],\"margin\":[0,0,0,0],\"name\":\"Column06359\"},\"id\":\"3510\",\"type\":\"Column\"},{\"attributes\":{\"axis\":{\"id\":\"3528\"},\"grid_line_color\":null,\"ticker\":null},\"id\":\"3530\",\"type\":\"Grid\"},{\"attributes\":{\"active_multi\":null,\"tools\":[{\"id\":\"3719\"},{\"id\":\"3736\"},{\"id\":\"3737\"},{\"id\":\"3738\"},{\"id\":\"3739\"},{\"id\":\"3740\"}]},\"id\":\"3742\",\"type\":\"Toolbar\"},{\"attributes\":{\"axis_label\":\"avg_house_value\",\"formatter\":{\"id\":\"3977\"},\"major_label_policy\":{\"id\":\"3978\"},\"ticker\":{\"id\":\"3948\"}},\"id\":\"3947\",\"type\":\"LinearAxis\"},{\"attributes\":{\"below\":[{\"id\":\"3866\"}],\"center\":[{\"id\":\"3869\"},{\"id\":\"3873\"}],\"height\":500,\"left\":[{\"id\":\"3870\"}],\"margin\":[5,5,5,5],\"min_border_bottom\":10,\"min_border_left\":10,\"min_border_right\":10,\"min_border_top\":10,\"renderers\":[{\"id\":\"3893\"}],\"sizing_mode\":\"fixed\",\"title\":{\"id\":\"3858\"},\"toolbar\":{\"id\":\"3880\"},\"width\":500,\"x_range\":{\"id\":\"3786\"},\"x_scale\":{\"id\":\"3862\"},\"y_range\":{\"id\":\"3855\"},\"y_scale\":{\"id\":\"3864\"}},\"id\":\"3857\",\"subtype\":\"Figure\",\"type\":\"Plot\"},{\"attributes\":{\"fill_alpha\":{\"value\":0.1},\"fill_color\":{\"value\":\"#30a2da\"},\"line_alpha\":{\"value\":0.1},\"top\":{\"field\":\"average_house_value\"},\"width\":{\"value\":0.8},\"x\":{\"field\":\"neighbourhood\"}},\"id\":\"3968\",\"type\":\"VBar\"},{\"attributes\":{\"below\":[{\"id\":\"3729\"}],\"center\":[{\"id\":\"3731\"},{\"id\":\"3735\"}],\"height\":500,\"left\":[{\"id\":\"3732\"}],\"margin\":[5,5,5,5],\"min_border_bottom\":10,\"min_border_left\":10,\"min_border_right\":10,\"min_border_top\":10,\"renderers\":[{\"id\":\"3755\"}],\"sizing_mode\":\"fixed\",\"title\":{\"id\":\"3721\"},\"toolbar\":{\"id\":\"3742\"},\"width\":500,\"x_range\":{\"id\":\"3516\"},\"x_scale\":{\"id\":\"3725\"},\"y_range\":{\"id\":\"3718\"},\"y_scale\":{\"id\":\"3727\"}},\"id\":\"3720\",\"subtype\":\"Figure\",\"type\":\"Plot\"},{\"attributes\":{},\"id\":\"3526\",\"type\":\"LinearScale\"},{\"attributes\":{\"client_comm_id\":\"a5f59ff3a93849c69ea1688131e412ef\",\"comm_id\":\"6b5c1f74eaf04b42b2404dfbf97dd930\",\"plot_id\":\"3510\"},\"id\":\"4216\",\"type\":\"panel.models.comm_manager.CommManager\"},{\"attributes\":{},\"id\":\"3670\",\"type\":\"PanTool\"},{\"attributes\":{\"bottom\":{\"value\":0},\"fill_alpha\":{\"value\":1.0},\"fill_color\":{\"value\":\"pink\"},\"hatch_alpha\":{\"value\":1.0},\"hatch_color\":{\"value\":\"black\"},\"hatch_scale\":{\"value\":12.0},\"hatch_weight\":{\"value\":1.0},\"line_alpha\":{\"value\":1.0},\"line_cap\":{\"value\":\"butt\"},\"line_color\":{\"value\":\"black\"},\"line_dash\":{\"value\":[]},\"line_dash_offset\":{\"value\":0},\"line_join\":{\"value\":\"bevel\"},\"line_width\":{\"value\":1},\"top\":{\"field\":\"A_2016\"},\"width\":{\"value\":0.8},\"x\":{\"field\":\"index\"}},\"id\":\"3757\",\"type\":\"VBar\"},{\"attributes\":{\"axis\":{\"id\":\"3729\"},\"grid_line_color\":null,\"ticker\":null},\"id\":\"3731\",\"type\":\"Grid\"},{\"attributes\":{},\"id\":\"3695\",\"type\":\"BasicTickFormatter\"},{\"attributes\":{\"data\":{\"lat\":[{\"__ndarray__\":\"U/xKrRjnRUArfwi78uRFQGLShJJuzUVAiKL+gvbVRUAuVWmLa95FQG3/DGfl4UVA2X/4VCnURUAcpxHIX+NFQFWFipr95UVAhKk9V6HdRUCIzGRRu9hFQBE36a5T4UVAOpzQVuvYRUC/Y3js5+FFQGUFO9WM1kVAdJqBoXnZRUCGn6zWkd1FQBmI6Wsr2EVAHqN+D8XZRUCgzBZ7ddVFQINmfAQj2EVAvhr77UbXRUBYVMTpJORFQJdFtF9v1EVALWO//lbbRUD+lzEm+d5FQDjN0LJN3EVAIh27l73WRUD5o4cljtdFQMEXiX1A2EVASdu290LkRUCm6w3nL+FFQJ0G0uY01UVAGNQShtzdRUBnHFUT5dNFQFCwewKT10VAC2bplt/VRUBFsLuK1t5FQGYM97pa3EVAvL8PQTTcRUC/NajkOdRFQNNidGmR0kVA4j0HlqPbRUAFvA7NI9pFQPu2WDjm2EVAPX0E/nDfRUAjKwEpGNZFQOrKyqPZ30VAqebm2bTiRUA9uUMWK9RFQDl05XmR0kVActOPGzjlRUDPdyJOyOZFQPibmhWb2EVA7URJSCThRUD3o9GyKN9FQCSyUc5+2EVA0svFayDeRUB4u7lTFdFFQNK9d2l91UVANs/w6sXXRUCyaYQC39xFQARCZ6mn00VABCaqlnjZRUAWD7WOptNFQGHg2gXa5UVAgQrDVybURUB9yAD1i+BFQJAhlZxy3UVAf+fNl83bRUBIcQoCFtpFQN8qFXXi0kVABfoCgtLLRUDFFJtF3uZFQL4VR+2X20VAR3Nk5RfRRUDWllNlDOlFQFfD0ZfWzkVAZDE9oyXkRUDqkvXECNRFQCu+BBsV2EVAvbczXZnfRUATVY2YONpFQK+mgO4q2kVA26xVFuDMRUDu1HULUeVFQEJCUhOW5EVAVMtSwn7RRUAKKeTvA9ZFQAJLSzi21UVAY6w+cHjaRUBCKGurRNlFQAytkOoi2EVAxI7vIDDZRUCOtoVCX9RFQIiEzu+k4EVAhrO2hNfbRUDo3MxsANdFQNDffNG75EVAlz1kJUHVRUBidVifetRFQOLwWQmj3EVAmjORiF/WRUAzn3sotNJFQAHy66hm10VAJ5F1Hx3pRUAVlrLrYtRFQLn39AEW20VAL+rmJIzeRUCz469ef9FFQFGgkQAc00VADsvRqczgRUAW7PEID+hFQLsueKhY0UVAEzGAS9vjRUAjamCz9dhFQPyDUPfk1UVAHZ9eY3beRUAkXK+Gl9pFQDCRHPo400VA2TLPAM3URUCSMtIgP91FQGvj2/0i0UVAalnvHj3iRUCiBKLMq9tFQNbLziaw40VA6Y96mfLZRUDRRVxjRNZFQJX/PTbR30VAO3ZIGKPiRUDqcHwGt+JFQDujlK2B10VA4alPiyTiRUD1G7t+oNZFQNkdWn3Y2EVAUldnSqXWRUCS/uJCM9pFQO50a8IL2EVAsfM+pwPiRUC7XVBbettFQA==\",\"dtype\":\"float64\",\"order\":\"little\",\"shape\":[140]}],\"lon\":[{\"__ndarray__\":\"GObrzxHRU8Chm6LI/9BTwGXg48Cp4lPArp1qJdvZU8AVu4XHYdZTwNBX+wEw3VPA04cuqK/YU8AYHsGuIthTwLud2J502FPAoEhBAeXaU8D8cXetr95TwDbIZj950FPAkB3pRvfQU8CnJfMbaOFTwLWAt92X1VPA3twEhPvcU8C8WlH3P9hTwFK8RqLC1lPASb/55BPfU8AP46BKbtdTwAYW2TEi3VPAPJPsxxzaU8Aw3odqp8lTwHBxO9FB2FPAlLK5KALSU8AbTrI4kNxTwAUZnuoSz1PACZRmVqPcU8BO4t7CG9VTwJG4hbY11VPAbzH9GqLWU8BDObCg2dFTwMIdAw0R3FPAlEH/TmTfU8Dq/0Vl/dtTwCRbRLEo01PAcy+s8m/hU8DAcNfgt89TwAYea4gi41PAaU9ugP7bU8DPusoDJuVTwOWkKH5p5FPA9ZJSEkrVU8AxjZGyZttTwFG2Di+E2lPA7kGlndzgU8DTWV6gwdRTwDtKb8l7zFPAxW0b49bVU8AMjQ7l191TwNjmUp7x3VPAyKV9tVvLU8BcH9YbtdZTwKN5W0Rv4VPAU8rvXZjjU8DYtJQktuJTwMxS/Clf21PANesQKHDRU8BCq7yyxeJTwI3rIRIs3lPAh2SOBizeU8BBGiUaqtBTwBZR0WBs2VPANshFMRDjU8AqhlBKreBTwEy/yPQZ1FPAS0KeNL/fU8DWnA8RL9tTwHgfDcja2VPAlLW4jPzZU8BLEa66bddTwEWLQ2iK21PAG070VCLiU8DabVm2Pc5TwCRMSb3E3lPAp28+GrPkU8CIYAO/mdFTwDQVHD0C4FPAZf6wKUDNU8Am8WbLgddTwLNDHdL/31PASP7cp5XlU8CeLBCYothTwG+0iM0s2VPAI3P6tKngU8Av/hHh+tlTwGwP92ic21PAAo2IGGXaU8AXVfEMe9ZTwEtCOwoE2FPAZUMvivvTU8D7Lc+95tFTwMN2/3El3FPA4JgrpHjVU8B/7Wg1x9pTwGANSKkh1VPAxgMlYM/hU8A6FC55ttZTwJQsistv1VPAHFI1D9riU8CsN4uTEtdTwAfBFRY95FPAUM6rlaTfU8D/RwH9WdxTwK8S4oBM2FPAueQTDe3LU8D7H8PXFd9TwEOEC7vg31PApRAKQuDNU8C472ocHtxTwJeQrE971VPAWGHIJELYU8CKzNinjtRTwGVDDnwS4FPA+jIoBWPTU8D8T0AL8NJTwLNV7qos01PAV5+jPBDkU8CBxachZtZTwGZ2SPeU2lPAUYTU7azZU8DXjZDkJtRTwD5bKBUk2FPAk7X6qE7LU8COYD60KuZTwLZ9l2v03FPA04MnmQHhU8CGaN+idN1TwIlij9wc01PAJfsQ6bHZU8CVCWQbXdtTwE4gkVt441PAyJ41JqHOU8AXgW+iL9RTwLVDcBrq01PAYY0OozvbU8DGSN1r1NlTwMxL9rZ22VPADfug20nfU8DQ2DRCQd1TwA==\",\"dtype\":\"float64\",\"order\":\"little\",\"shape\":[140]}],\"marker.color\":[{\"__ndarray__\":\"AAAAAE4hFEEAAAAAtGUUQQAAAABKHhpBAAAAAMLLJkEAAAAAjq0iQQAAAAAjnR5BAAAAAJbbGUEAAACA9XQgQQAAAABLQSFBAAAAgN5kLEEAAAAAv6MWQQAAAAANYRJBAAAAAAyxGkEAAAAATtcPQQAAAAA0Nx9BAAAAAFJPFkEAAADA1Uo3QQAAAAC1DxtBAAAAAHxrFUEAAAAAeigeQQAAAADJExZBAAAAgJDwLUEAAAAAGwQZQQAAAACWyRhBAAAAAO2jFUEAAACAEtUgQQAAAAA4ehlBAAAAAGqhGUEAAAAA/H8cQQAAAAC9vBlBAAAAAOlKGEEAAAAAgvsPQQAAAAAuiBpBAAAAAJ5HF0EAAAAA0+0bQQAAAACZLR1BAAAAAAVMKEEAAAAAmmoQQQAAAADVYBBBAAAAgNFcIUEAAAAAV0cYQQAAAACQ4hJBAAAAALhdCUEAAAAAwf0pQQAAAIDYPzJBAAAAALf+E0EAAAAAvp8XQQAAAAB2ixZBAAAAAJiUFkEAAAAAIkAgQQAAAICDyiFBAAAAAJosGkEAAAAAPBwYQQAAAAD6aRtBAAAAAEp9FUEAAAAAn4QTQQAAAAD7RSVBAAAAABePEUEAAAAAlZEbQQAAAADVcRpBAAAAAFuzE0EAAAAABogRQQAAAACX4hpBAAAAAKOmFEEAAACAxLspQQAAAICH2CNBAAAAAKeLFEEAAAAAwbYiQQAAAADBLCdBAAAAwIuxMEEAAACAj5woQQAAAABBfCBBAAAAAJmMF0EAAAAAglsPQQAAAAC0qRtBAAAAABsZG0EAAAAAcQ4VQQAAAABKBBhBAAAAAFZlEUEAAAAAwP0YQQAAAACTAhBBAAAAAPLnDkEAAACA9KskQQAAAABXkxxBAAAAABDkGEEAAACAqhMhQQAAAABiHBxBAAAAACSVFkEAAACArnQlQQAAAAD/HBlBAAAAAC81EkEAAAAAxsUZQQAAAADL7RpBAAAAAFYQG0EAAACA3/wiQQAAAADyvxtBAAAAAN2+GEEAAACANs0jQQAAAAD9yRZBAAAAAGVeJ0EAAAAACfYXQQAAAACdCBZBAAAAAPEYFUEAAAAAJRAfQQAAAAAIsDBBAAAAAHv3FkEAAAAAJNkgQQAAAADKTxpBAAAAAK8hFEEAAAAA2k8bQQAAAACyxRtBAAAAAIZ9LkEAAAAAOvMWQQAAAIBAzCBBAAAAABqaFUEAAAAAsDkNQQAAAACEVSRBAAAAAODwFkEAAAAABikPQQAAAICDTyBBAAAAgJneIkEAAAAAFH4VQQAAAAB8ABdBAAAAAJ5fEUEAAAAAWfMUQQAAAAAhUhVBAAAAAJ/MEkEAAAAA6HgVQQAAAAB9QhVBAAAAANagHEEAAAAAW3McQQAAAABYVhxBAAAAACc4EkEAAAAAGy8bQQAAAAD6kxZBAAAAALFFIUEAAACAI7YoQQAAAIBI0ShBAAAAAK6rEkEAAAAANUwaQQ==\",\"dtype\":\"float64\",\"order\":\"little\",\"shape\":[140]}],\"marker.size\":[{\"__ndarray__\":\"AAAAAE4hFEEAAAAAtGUUQQAAAABKHhpBAAAAAMLLJkEAAAAAjq0iQQAAAAAjnR5BAAAAAJbbGUEAAACA9XQgQQAAAABLQSFBAAAAgN5kLEEAAAAAv6MWQQAAAAANYRJBAAAAAAyxGkEAAAAATtcPQQAAAAA0Nx9BAAAAAFJPFkEAAADA1Uo3QQAAAAC1DxtBAAAAAHxrFUEAAAAAeigeQQAAAADJExZBAAAAgJDwLUEAAAAAGwQZQQAAAACWyRhBAAAAAO2jFUEAAACAEtUgQQAAAAA4ehlBAAAAAGqhGUEAAAAA/H8cQQAAAAC9vBlBAAAAAOlKGEEAAAAAgvsPQQAAAAAuiBpBAAAAAJ5HF0EAAAAA0+0bQQAAAACZLR1BAAAAAAVMKEEAAAAAmmoQQQAAAADVYBBBAAAAgNFcIUEAAAAAV0cYQQAAAACQ4hJBAAAAALhdCUEAAAAAwf0pQQAAAIDYPzJBAAAAALf+E0EAAAAAvp8XQQAAAAB2ixZBAAAAAJiUFkEAAAAAIkAgQQAAAICDyiFBAAAAAJosGkEAAAAAPBwYQQAAAAD6aRtBAAAAAEp9FUEAAAAAn4QTQQAAAAD7RSVBAAAAABePEUEAAAAAlZEbQQAAAADVcRpBAAAAAFuzE0EAAAAABogRQQAAAACX4hpBAAAAAKOmFEEAAACAxLspQQAAAICH2CNBAAAAAKeLFEEAAAAAwbYiQQAAAADBLCdBAAAAwIuxMEEAAACAj5woQQAAAABBfCBBAAAAAJmMF0EAAAAAglsPQQAAAAC0qRtBAAAAABsZG0EAAAAAcQ4VQQAAAABKBBhBAAAAAFZlEUEAAAAAwP0YQQAAAACTAhBBAAAAAPLnDkEAAACA9KskQQAAAABXkxxBAAAAABDkGEEAAACAqhMhQQAAAABiHBxBAAAAACSVFkEAAACArnQlQQAAAAD/HBlBAAAAAC81EkEAAAAAxsUZQQAAAADL7RpBAAAAAFYQG0EAAACA3/wiQQAAAADyvxtBAAAAAN2+GEEAAACANs0jQQAAAAD9yRZBAAAAAGVeJ0EAAAAACfYXQQAAAACdCBZBAAAAAPEYFUEAAAAAJRAfQQAAAAAIsDBBAAAAAHv3FkEAAAAAJNkgQQAAAADKTxpBAAAAAK8hFEEAAAAA2k8bQQAAAACyxRtBAAAAAIZ9LkEAAAAAOvMWQQAAAIBAzCBBAAAAABqaFUEAAAAAsDkNQQAAAACEVSRBAAAAAODwFkEAAAAABikPQQAAAICDTyBBAAAAgJneIkEAAAAAFH4VQQAAAAB8ABdBAAAAAJ5fEUEAAAAAWfMUQQAAAAAhUhVBAAAAAJ/MEkEAAAAA6HgVQQAAAAB9QhVBAAAAANagHEEAAAAAW3McQQAAAABYVhxBAAAAACc4EkEAAAAAGy8bQQAAAAD6kxZBAAAAALFFIUEAAACAI7YoQQAAAIBI0ShBAAAAAK6rEkEAAAAANUwaQQ==\",\"dtype\":\"float64\",\"order\":\"little\",\"shape\":[140]}]},\"selected\":{\"id\":\"4061\"},\"selection_policy\":{\"id\":\"4062\"}},\"id\":\"3927\",\"type\":\"ColumnDataSource\"},{\"attributes\":{\"text\":\"top_most_expensive_neighbourhoods\",\"text_color\":\"black\",\"text_font_size\":\"12pt\"},\"id\":\"3936\",\"type\":\"Title\"},{\"attributes\":{\"bottom_units\":\"screen\",\"fill_alpha\":0.5,\"fill_color\":\"lightgrey\",\"left_units\":\"screen\",\"level\":\"overlay\",\"line_alpha\":1.0,\"line_color\":\"black\",\"line_dash\":[4,4],\"line_width\":2,\"right_units\":\"screen\",\"syncable\":false,\"top_units\":\"screen\"},\"id\":\"3674\",\"type\":\"BoxAnnotation\"},{\"attributes\":{\"source\":{\"id\":\"3964\"}},\"id\":\"3971\",\"type\":\"CDSView\"},{\"attributes\":{},\"id\":\"3948\",\"type\":\"BasicTicker\"},{\"attributes\":{},\"id\":\"3987\",\"type\":\"UnionRenderers\"},{\"attributes\":{\"callback\":null,\"renderers\":[{\"id\":\"3893\"}],\"tags\":[\"hv_created\"],\"tooltips\":[[\"year\",\"@{year}\"],[\"shelter_costs_rented\",\"@{shelter_costs_rented}\"]]},\"id\":\"3856\",\"type\":\"HoverTool\"},{\"attributes\":{},\"id\":\"3953\",\"type\":\"WheelZoomTool\"},{\"attributes\":{\"axis_label\":\"2001\",\"formatter\":{\"id\":\"3558\"},\"major_label_orientation\":0.7853981633974483,\"major_label_policy\":{\"id\":\"3559\"},\"ticker\":{\"id\":\"3529\"}},\"id\":\"3528\",\"type\":\"CategoricalAxis\"},{\"attributes\":{\"fill_alpha\":{\"value\":0.2},\"fill_color\":{\"value\":\"yellow\"},\"line_alpha\":{\"value\":0.2},\"top\":{\"field\":\"A_2011\"},\"width\":{\"value\":0.8},\"x\":{\"field\":\"index\"}},\"id\":\"3687\",\"type\":\"VBar\"},{\"attributes\":{\"data_source\":{\"id\":\"3964\"},\"glyph\":{\"id\":\"3967\"},\"hover_glyph\":null,\"muted_glyph\":{\"id\":\"3969\"},\"nonselection_glyph\":{\"id\":\"3968\"},\"selection_glyph\":{\"id\":\"3972\"},\"view\":{\"id\":\"3971\"}},\"id\":\"3970\",\"type\":\"GlyphRenderer\"},{\"attributes\":{},\"id\":\"3965\",\"type\":\"Selection\"},{\"attributes\":{\"text\":\"Dwelling Types Units in Toronto in 2001\",\"text_color\":\"black\",\"text_font_size\":\"12pt\"},\"id\":\"3520\",\"type\":\"Title\"},{\"attributes\":{\"fill_alpha\":{\"value\":0.1},\"fill_color\":{\"value\":\"pink\"},\"line_alpha\":{\"value\":0.1},\"top\":{\"field\":\"A_2016\"},\"width\":{\"value\":0.8},\"x\":{\"field\":\"index\"}},\"id\":\"3753\",\"type\":\"VBar\"},{\"attributes\":{\"line_alpha\":0.2,\"line_color\":\"blue\",\"line_width\":2,\"x\":{\"field\":\"year\"},\"y\":{\"field\":\"shelter_costs_owned\"}},\"id\":\"3824\",\"type\":\"Line\"},{\"attributes\":{},\"id\":\"3952\",\"type\":\"PanTool\"},{\"attributes\":{\"axis\":{\"id\":\"3802\"},\"dimension\":1,\"grid_line_color\":null,\"ticker\":null},\"id\":\"3805\",\"type\":\"Grid\"},{\"attributes\":{},\"id\":\"3888\",\"type\":\"Selection\"},{\"attributes\":{\"end\":390509.0,\"reset_end\":390509.0,\"reset_start\":0.0,\"tags\":[[[\"2001\",\"2001\",null]]]},\"id\":\"3517\",\"type\":\"Range1d\"},{\"attributes\":{\"axis_label\":\"2016\",\"formatter\":{\"id\":\"3759\"},\"major_label_orientation\":0.7853981633974483,\"major_label_policy\":{\"id\":\"3760\"},\"ticker\":{\"id\":\"3730\"}},\"id\":\"3729\",\"type\":\"CategoricalAxis\"},{\"attributes\":{},\"id\":\"3535\",\"type\":\"SaveTool\"},{\"attributes\":{},\"id\":\"3803\",\"type\":\"BasicTicker\"},{\"attributes\":{\"fill_alpha\":{\"value\":0.2},\"fill_color\":{\"value\":\"#30a2da\"},\"line_alpha\":{\"value\":0.2},\"top\":{\"field\":\"average_house_value\"},\"width\":{\"value\":0.8},\"x\":{\"field\":\"neighbourhood\"}},\"id\":\"3969\",\"type\":\"VBar\"},{\"attributes\":{\"axis_label\":\"Year\",\"formatter\":{\"id\":\"3829\"},\"major_label_policy\":{\"id\":\"3830\"},\"ticker\":{\"id\":\"3799\"}},\"id\":\"3798\",\"type\":\"LinearAxis\"},{\"attributes\":{\"end\":2016.0,\"reset_end\":2016.0,\"reset_start\":2001.0,\"start\":2001.0,\"tags\":[[[\"year\",\"year\",null]]]},\"id\":\"3786\",\"type\":\"Range1d\"},{\"attributes\":{},\"id\":\"3951\",\"type\":\"SaveTool\"},{\"attributes\":{\"child\":{\"id\":\"3513\"},\"name\":\"Welcome & Enjoy\",\"title\":\"Welcome & Enjoy\"},\"id\":\"3514\",\"type\":\"Panel\"},{\"attributes\":{\"axis_label\":\"Avg Monthly Shelter Costs\",\"formatter\":{\"id\":\"3832\"},\"major_label_policy\":{\"id\":\"3833\"},\"ticker\":{\"id\":\"3803\"}},\"id\":\"3802\",\"type\":\"LinearAxis\"},{\"attributes\":{\"source\":{\"id\":\"3749\"}},\"id\":\"3756\",\"type\":\"CDSView\"},{\"attributes\":{},\"id\":\"3796\",\"type\":\"LinearScale\"},{\"attributes\":{\"child\":{\"id\":\"3923\"},\"name\":\"Column06353\",\"title\":\"## Map view and Best neighbourhood\"},\"id\":\"3999\",\"type\":\"Panel\"},{\"attributes\":{},\"id\":\"3975\",\"type\":\"AllLabels\"},{\"attributes\":{},\"id\":\"3736\",\"type\":\"SaveTool\"},{\"attributes\":{},\"id\":\"3730\",\"type\":\"CategoricalTicker\"},{\"attributes\":{},\"id\":\"3524\",\"type\":\"CategoricalScale\"},{\"attributes\":{},\"id\":\"3794\",\"type\":\"LinearScale\"},{\"attributes\":{},\"id\":\"3733\",\"type\":\"BasicTicker\"},{\"attributes\":{\"bottom\":{\"value\":0},\"fill_alpha\":{\"value\":1.0},\"fill_color\":{\"value\":\"#30a2da\"},\"hatch_alpha\":{\"value\":1.0},\"hatch_color\":{\"value\":\"black\"},\"hatch_scale\":{\"value\":12.0},\"hatch_weight\":{\"value\":1.0},\"line_alpha\":{\"value\":1.0},\"line_cap\":{\"value\":\"butt\"},\"line_color\":{\"value\":\"black\"},\"line_dash\":{\"value\":[]},\"line_dash_offset\":{\"value\":0},\"line_join\":{\"value\":\"bevel\"},\"line_width\":{\"value\":1},\"top\":{\"field\":\"average_house_value\"},\"width\":{\"value\":0.8},\"x\":{\"field\":\"neighbourhood\"}},\"id\":\"3972\",\"type\":\"VBar\"},{\"attributes\":{\"factors\":[\"single_detached_house\",\"apartment_five_storeys_plus\",\"movable_dwelling\",\"semi_detached_house\",\"row_house\",\"duplex\",\"apartment_five_storeys_less\",\"other_house\"],\"tags\":[[[\"index\",\"index\",null]]]},\"id\":\"3516\",\"type\":\"FactorRange\"},{\"attributes\":{\"axis_label\":\"Dwelling Type Units\",\"formatter\":{\"id\":\"3762\"},\"major_label_policy\":{\"id\":\"3763\"},\"ticker\":{\"id\":\"3733\"}},\"id\":\"3732\",\"type\":\"LinearAxis\"},{\"attributes\":{},\"id\":\"3671\",\"type\":\"WheelZoomTool\"},{\"attributes\":{},\"id\":\"3799\",\"type\":\"BasicTicker\"},{\"attributes\":{\"overlay\":{\"id\":\"3674\"}},\"id\":\"3672\",\"type\":\"BoxZoomTool\"},{\"attributes\":{},\"id\":\"3820\",\"type\":\"Selection\"},{\"attributes\":{},\"id\":\"3842\",\"type\":\"UnionRenderers\"},{\"attributes\":{},\"id\":\"3727\",\"type\":\"LinearScale\"},{\"attributes\":{},\"id\":\"3737\",\"type\":\"PanTool\"},{\"attributes\":{},\"id\":\"3833\",\"type\":\"AllLabels\"},{\"attributes\":{},\"id\":\"3738\",\"type\":\"WheelZoomTool\"},{\"attributes\":{\"end\":1289.412142857143,\"reset_end\":1289.412142857143,\"reset_start\":892.3235714285714,\"start\":892.3235714285714,\"tags\":[[[\"shelter_costs_rented\",\"shelter_costs_rented\",null]]]},\"id\":\"3855\",\"type\":\"Range1d\"},{\"attributes\":{},\"id\":\"3625\",\"type\":\"CategoricalTickFormatter\"},{\"attributes\":{\"overlay\":{\"id\":\"3741\"}},\"id\":\"3739\",\"type\":\"BoxZoomTool\"},{\"attributes\":{\"axis\":{\"id\":\"3732\"},\"dimension\":1,\"grid_line_color\":null,\"ticker\":null},\"id\":\"3735\",\"type\":\"Grid\"},{\"attributes\":{\"callback\":null,\"renderers\":[{\"id\":\"3621\"}],\"tags\":[\"hv_created\"],\"tooltips\":[[\"index\",\"@{index}\"],[\"2006\",\"@{A_2006}\"]]},\"id\":\"3585\",\"type\":\"HoverTool\"},{\"attributes\":{\"source\":{\"id\":\"3682\"}},\"id\":\"3689\",\"type\":\"CDSView\"},{\"attributes\":{},\"id\":\"3725\",\"type\":\"CategoricalScale\"}],\"root_ids\":[\"3510\",\"4216\",\"4433\"]},\"title\":\"Bokeh Application\",\"version\":\"2.3.3\"}};\n",
       "    var render_items = [{\"docid\":\"13d0c41b-e41f-449d-9a4f-e48aec9295fe\",\"root_ids\":[\"3510\"],\"roots\":{\"3510\":\"e8ec382c-6738-42e6-a234-65d754492f21\"}}];\n",
       "    root.Bokeh.embed.embed_items_notebook(docs_json, render_items);\n",
       "  }\n",
       "  if (root.Bokeh !== undefined && root.Bokeh.Panel !== undefined && root['Plotly'] !== undefined ) {\n",
       "    embed_document(root);\n",
       "  } else {\n",
       "    var attempts = 0;\n",
       "    var timer = setInterval(function(root) {\n",
       "      if (root.Bokeh !== undefined && root.Bokeh.Panel !== undefined && root['Plotly'] !== undefined) {\n",
       "        clearInterval(timer);\n",
       "        embed_document(root);\n",
       "      } else if (document.readyState == \"complete\") {\n",
       "        attempts++;\n",
       "        if (attempts > 100) {\n",
       "          clearInterval(timer);\n",
       "          console.log(\"Bokeh: ERROR: Unable to run BokehJS code because BokehJS library is missing\");\n",
       "        }\n",
       "      }\n",
       "    }, 10, root)\n",
       "  }\n",
       "})(window);</script>"
      ],
      "text/plain": [
       "Column\n",
       "    [0] Markdown(str)\n",
       "    [1] Tabs\n",
       "        [0] Markdown(str, name='Welcome & Enjoy')\n",
       "        [1] Column\n",
       "            [0] HoloViews(Bars)\n",
       "            [1] HoloViews(Bars)\n",
       "            [2] HoloViews(Bars)\n",
       "            [3] HoloViews(Bars)\n",
       "        [2] Column\n",
       "            [0] HoloViews(Curve)\n",
       "            [1] HoloViews(Curve)\n",
       "        [3] Column\n",
       "            [0] Column\n",
       "                [0] Column()\n",
       "                [1] Row\n",
       "                    [0] Plotly(Figure, name='interactive06254')\n",
       "            [1] Column\n",
       "                [0] Column()\n",
       "                [1] Row\n",
       "                    [0] HoloViews(Bars, name='interactive06260')"
      ]
     },
     "execution_count": 92,
     "metadata": {
      "application/vnd.holoviews_exec.v0+json": {
       "id": "3510"
      }
     },
     "output_type": "execute_result"
    }
   ],
   "source": [
    "dashboard.servable()"
   ]
  },
  {
   "cell_type": "markdown",
   "metadata": {},
   "source": [
    "# Debugging\n",
    "\n",
    "Note: Some of the Plotly express plots may not render in the notebook through the panel functions.\n",
    "\n",
    "However, you can test each plot by uncommenting the following code"
   ]
  },
  {
   "cell_type": "code",
   "execution_count": 93,
   "metadata": {},
   "outputs": [],
   "source": [
    "# neighbourhood_map().show()"
   ]
  },
  {
   "cell_type": "code",
   "execution_count": 94,
   "metadata": {},
   "outputs": [],
   "source": [
    "# create_bar_chart(data, title, xlabel, ylabel, color)\n",
    "\n",
    "# # Bar chart for 2001\n",
    "# create_bar_chart(df_dwelling_units.loc[2001], \"Dwelling Types in Toronto in 2001\", \"2001\", \"Dwelling Type Units\", \"red\")\n",
    "\n",
    "# # Bar chart for 2006\n",
    "# create_bar_chart(df_dwelling_units.loc[2006], \"Dwelling Types in Toronto in 2006\", \"2006\", \"Dwelling Type Units\", \"blue\")\n",
    "\n",
    "# # Bar chart for 2011\n",
    "# create_bar_chart(df_dwelling_units.loc[2011], \"Dwelling Types in Toronto in 2011\", \"2011\", \"Dwelling Type Units\", \"orange\")\n",
    "\n",
    "# # Bar chart for 2016\n",
    "# create_bar_chart(df_dwelling_units.loc[2016], \"Dwelling Types in Toronto in 2016\", \"2016\", \"Dwelling Type Units\", \"magenta\")"
   ]
  },
  {
   "cell_type": "code",
   "execution_count": 95,
   "metadata": {},
   "outputs": [],
   "source": [
    "# create_line_chart(data, title, xlabel, ylabel, color)\n",
    "\n",
    "# # Line chart for owned dwellings\n",
    "# create_line_chart(df_avg_costs[\"shelter_costs_owned\"], \"Average Monthly Shelter Cost for Owned Dwellings in Toronto\", \"Year\", \"Avg Monthly Shelter Costs\", \"blue\")\n",
    "\n",
    "# # Line chart for rented dwellings\n",
    "# create_line_chart(df_avg_costs[\"shelter_costs_rented\"], \"Average Monthly Shelter Cost for Rented Dwellings in Toronto\", \"Year\", \"Avg Monthly Shelter Costs\", \"orange\")"
   ]
  },
  {
   "cell_type": "code",
   "execution_count": 96,
   "metadata": {},
   "outputs": [],
   "source": [
    "# average_house_value()"
   ]
  },
  {
   "cell_type": "code",
   "execution_count": 97,
   "metadata": {},
   "outputs": [],
   "source": [
    "# average_value_by_neighbourhood()"
   ]
  },
  {
   "cell_type": "code",
   "execution_count": 98,
   "metadata": {},
   "outputs": [],
   "source": [
    "# number_dwelling_types()"
   ]
  },
  {
   "cell_type": "code",
   "execution_count": 99,
   "metadata": {},
   "outputs": [],
   "source": [
    "# average_house_value_snapshot()"
   ]
  },
  {
   "cell_type": "code",
   "execution_count": 100,
   "metadata": {},
   "outputs": [],
   "source": [
    "# top_most_expensive_neighbourhoods()"
   ]
  },
  {
   "cell_type": "code",
   "execution_count": 101,
   "metadata": {},
   "outputs": [],
   "source": [
    "# sunburts_cost_analysis()"
   ]
  }
 ],
 "metadata": {
  "file_extension": ".py",
  "kernelspec": {
   "display_name": "Python [conda env:pyvizenv] *",
   "language": "python",
   "name": "conda-env-pyvizenv-py"
  },
  "language_info": {
   "codemirror_mode": {
    "name": "ipython",
    "version": 3
   },
   "file_extension": ".py",
   "mimetype": "text/x-python",
   "name": "python",
   "nbconvert_exporter": "python",
   "pygments_lexer": "ipython3",
   "version": "3.7.10"
  },
  "mimetype": "text/x-python",
  "name": "python",
  "npconvert_exporter": "python",
  "pygments_lexer": "ipython3",
  "version": 3
 },
 "nbformat": 4,
 "nbformat_minor": 4
}
